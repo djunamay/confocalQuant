{
 "cells": [
  {
   "cell_type": "markdown",
   "id": "60ebaff1-0fd6-44ed-874e-dcba53444836",
   "metadata": {},
   "source": [
    "Combine all outputs across multiple imaging batches into a single file and produce segmentation projections for manual evaluation"
   ]
  },
  {
   "cell_type": "code",
   "execution_count": 1,
   "id": "837ac206-6fb9-43b9-b12a-4ef129bfc3c7",
   "metadata": {},
   "outputs": [],
   "source": [
    "#### ADD CUSTOM PATH ###\n",
    "path_to_quant = '//home/gridsan/djuna/homer/github/confocalQuant'"
   ]
  },
  {
   "cell_type": "code",
   "execution_count": 2,
   "id": "902d8a39-ee29-4ce8-8edf-a06495a2ae96",
   "metadata": {},
   "outputs": [
    {
     "name": "stderr",
     "output_type": "stream",
     "text": [
      "/home/gridsan/djuna/.local/lib/python3.8/site-packages/pydantic/_migration.py:281: UserWarning: `pydantic.error_wrappers:ValidationError` has been moved to `pydantic:ValidationError`.\n",
      "  warnings.warn(f'`{import_path}` has been moved to `{new_location}`.')\n"
     ]
    }
   ],
   "source": [
    "import sys\n",
    "import os\n",
    "from tqdm import tqdm \n",
    "from aicsimageio import AICSImage\n",
    "from cellpose import models\n",
    "import numpy as np\n",
    "import pandas as pd\n",
    "import numpy as np\n",
    "import glob\n",
    "from skimage.segmentation import find_boundaries\n",
    "from PIL import Image\n",
    "\n",
    "sys.path.append(path_to_quant)\n",
    "from confocalQuant.segmentation import get_czi_files, hide_masks, gamma_correct_image, extract_channels, float_to_int\n",
    "from confocalQuant.plotting import get_out_files, add_metadata, is_string_present, return_results, filter_data, get_id_data\n",
    "from confocalQuant.quantification import concatenate_Y\n",
    "from confocalQuant.image import save_mean_proj"
   ]
  },
  {
   "cell_type": "code",
   "execution_count": 74,
   "id": "ec2706cf-1573-4536-859b-a3fe9ab20eab",
   "metadata": {},
   "outputs": [],
   "source": [
    "def norm_value(all_data, value, norm):\n",
    "    all_data[value+'_per_point'] = all_data[value]/all_data[norm]\n",
    "    \n",
    "def get_per_batch_data(parent_path, in_dirs, out_dirs, ID, target_vals):\n",
    "    # concatenate image metadata\n",
    "    im_path_root = parent_path + 'data/' + in_dirs[ID]\n",
    "    out_path_root = parent_path + 'outs/' + out_dirs[ID]\n",
    "\n",
    "    in_file_names = get_czi_files(im_path_root)\n",
    "    out_file_names = get_out_files(out_path_root)\n",
    "\n",
    "    df = pd.DataFrame([x.split('.')[0] for x in in_file_names])\n",
    "    df.columns = ['filename']\n",
    "    df['ID'] = range(len(in_file_names))\n",
    "    df['batch'] = in_dirs[ID]\n",
    "    wellname = [x.split('-')[0] for x in df['filename']]\n",
    "    df['well_name'] = wellname\n",
    "    dictionary = dict(zip([int(x.split('_')[1].split('.')[0]) for x in out_file_names], out_file_names))\n",
    "    df['slurm_name'] = [dictionary[x] for x in df['ID']]\n",
    "\n",
    "    add_metadata(df, im_path_root+'/temp.csv')\n",
    "\n",
    "    # get the actual data\n",
    "\n",
    "    path_to_sbatch_file = glob.glob(out_path_root+'/'+'*.sbatch')[0]\n",
    "    mat, masks, Y, Ncells, Nzi, cells_per_job, zi_per_job, randID_per_job = return_results(path_to_sbatch_file, '../../')\n",
    "    df['randID'] = randID_per_job\n",
    "\n",
    "    # concatenate Y data\n",
    "    colnames = colnames_dict[in_dirs[ID]]\n",
    "    Nfiles = df.shape[0]\n",
    "    Y_extracted = concatenate_Y(Nfiles, Y, cells_per_job, Ncells, colnames)\n",
    "\n",
    "    all_data = pd.merge(df, Y_extracted, on='ID')\n",
    "    norm_value(all_data, 'DAPI', 'Npoints')\n",
    "    norm_value(all_data, 'NeuN', 'Npoints')\n",
    "    for i in range(len(target_vals)):\n",
    "        norm_value(all_data, target_vals[i], 'Npoints')\n",
    "    \n",
    "    return all_data"
   ]
  },
  {
   "cell_type": "code",
   "execution_count": 75,
   "id": "41cf658e-02b3-44b0-b7a2-7f06825fb211",
   "metadata": {},
   "outputs": [],
   "source": [
    "# prep\n",
    "parent_path = '/home/gridsan/djuna/homer/github/confocalQuant/'\n",
    "dirs = np.array(os.listdir('../'))\n",
    "out_dirs = dirs[['neuron' in x for x in dirs]]\n",
    "in_dirs = [x.split('_out')[0] for x in out_dirs]\n",
    "\n",
    "colnames = pd.read_csv('colnames.csv')\n",
    "colnames_dict = dict(zip(list(colnames['batch']), ([[x.split(\"'\")[1] for x in y.split(',')] for y in colnames['colnames']])))"
   ]
  },
  {
   "cell_type": "code",
   "execution_count": 73,
   "id": "cbefe18f-c175-4b0b-a062-c63e42f3eea4",
   "metadata": {},
   "outputs": [
    {
     "data": {
      "text/plain": [
       "['DAPI',\n",
       " 'NeuN',\n",
       " 'Tuj',\n",
       " 'mito',\n",
       " 'cellvolume',\n",
       " 'Npoints',\n",
       " 'Tuj-b',\n",
       " 'mito-b',\n",
       " 'ID']"
      ]
     },
     "execution_count": 73,
     "metadata": {},
     "output_type": "execute_result"
    }
   ],
   "source": [
    "colnames_dict[in_dirs[4]]"
   ]
  },
  {
   "cell_type": "code",
   "execution_count": 81,
   "id": "7653d110-3ab5-40eb-91b8-92209698862e",
   "metadata": {},
   "outputs": [],
   "source": [
    "all_data = get_per_batch_data(parent_path, in_dirs, out_dirs, -2, ['mito-b'])"
   ]
  },
  {
   "cell_type": "code",
   "execution_count": 82,
   "id": "c8a55ee6-41e6-49e1-911f-6949b5d76a60",
   "metadata": {},
   "outputs": [],
   "source": [
    "# save all data\n",
    "all_data.to_csv('./out_data/'+in_dirs[-2]+'_data.csv', index = False)"
   ]
  },
  {
   "cell_type": "markdown",
   "id": "b7e4f318-843a-4136-9e60-884f22295510",
   "metadata": {},
   "source": [
    "## below is scrap"
   ]
  },
  {
   "cell_type": "code",
   "execution_count": 55,
   "id": "2018633a-2ec0-4632-8ac3-44c9ff3ae40f",
   "metadata": {},
   "outputs": [],
   "source": []
  },
  {
   "cell_type": "code",
   "execution_count": 53,
   "id": "f6158192-1df4-4fde-b843-f6fe7ff7dcf0",
   "metadata": {},
   "outputs": [
    {
     "name": "stderr",
     "output_type": "stream",
     "text": [
      "/state/partition1/slurm_tmp/24464380.0.0/ipykernel_2654113/3217969252.py:1: FutureWarning: In a future version of pandas all arguments of concat except for the argument 'objs' will be keyword-only.\n",
      "  pd.concat(all_data, pd.concat([all_data[x]/all_data['Npoints'] for x in ['DAPI', 'NeuN', 'mito-b']], axis=1), axis=1)\n"
     ]
    },
    {
     "ename": "TypeError",
     "evalue": "concat() got multiple values for argument 'axis'",
     "output_type": "error",
     "traceback": [
      "\u001b[0;31m---------------------------------------------------------------------------\u001b[0m",
      "\u001b[0;31mTypeError\u001b[0m                                 Traceback (most recent call last)",
      "Input \u001b[0;32mIn [53]\u001b[0m, in \u001b[0;36m<cell line: 1>\u001b[0;34m()\u001b[0m\n\u001b[0;32m----> 1\u001b[0m \u001b[43mpd\u001b[49m\u001b[38;5;241;43m.\u001b[39;49m\u001b[43mconcat\u001b[49m\u001b[43m(\u001b[49m\u001b[43mall_data\u001b[49m\u001b[43m,\u001b[49m\u001b[43m \u001b[49m\u001b[43mpd\u001b[49m\u001b[38;5;241;43m.\u001b[39;49m\u001b[43mconcat\u001b[49m\u001b[43m(\u001b[49m\u001b[43m[\u001b[49m\u001b[43mall_data\u001b[49m\u001b[43m[\u001b[49m\u001b[43mx\u001b[49m\u001b[43m]\u001b[49m\u001b[38;5;241;43m/\u001b[39;49m\u001b[43mall_data\u001b[49m\u001b[43m[\u001b[49m\u001b[38;5;124;43m'\u001b[39;49m\u001b[38;5;124;43mNpoints\u001b[39;49m\u001b[38;5;124;43m'\u001b[39;49m\u001b[43m]\u001b[49m\u001b[43m \u001b[49m\u001b[38;5;28;43;01mfor\u001b[39;49;00m\u001b[43m \u001b[49m\u001b[43mx\u001b[49m\u001b[43m \u001b[49m\u001b[38;5;129;43;01min\u001b[39;49;00m\u001b[43m \u001b[49m\u001b[43m[\u001b[49m\u001b[38;5;124;43m'\u001b[39;49m\u001b[38;5;124;43mDAPI\u001b[39;49m\u001b[38;5;124;43m'\u001b[39;49m\u001b[43m,\u001b[49m\u001b[43m \u001b[49m\u001b[38;5;124;43m'\u001b[39;49m\u001b[38;5;124;43mNeuN\u001b[39;49m\u001b[38;5;124;43m'\u001b[39;49m\u001b[43m,\u001b[49m\u001b[43m \u001b[49m\u001b[38;5;124;43m'\u001b[39;49m\u001b[38;5;124;43mmito-b\u001b[39;49m\u001b[38;5;124;43m'\u001b[39;49m\u001b[43m]\u001b[49m\u001b[43m]\u001b[49m\u001b[43m,\u001b[49m\u001b[43m \u001b[49m\u001b[43maxis\u001b[49m\u001b[38;5;241;43m=\u001b[39;49m\u001b[38;5;241;43m1\u001b[39;49m\u001b[43m)\u001b[49m\u001b[43m,\u001b[49m\u001b[43m \u001b[49m\u001b[43maxis\u001b[49m\u001b[38;5;241;43m=\u001b[39;49m\u001b[38;5;241;43m1\u001b[39;49m\u001b[43m)\u001b[49m\n",
      "File \u001b[0;32m~/.local/lib/python3.8/site-packages/pandas/util/_decorators.py:331\u001b[0m, in \u001b[0;36mdeprecate_nonkeyword_arguments.<locals>.decorate.<locals>.wrapper\u001b[0;34m(*args, **kwargs)\u001b[0m\n\u001b[1;32m    325\u001b[0m \u001b[38;5;28;01mif\u001b[39;00m \u001b[38;5;28mlen\u001b[39m(args) \u001b[38;5;241m>\u001b[39m num_allow_args:\n\u001b[1;32m    326\u001b[0m     warnings\u001b[38;5;241m.\u001b[39mwarn(\n\u001b[1;32m    327\u001b[0m         msg\u001b[38;5;241m.\u001b[39mformat(arguments\u001b[38;5;241m=\u001b[39m_format_argument_list(allow_args)),\n\u001b[1;32m    328\u001b[0m         \u001b[38;5;167;01mFutureWarning\u001b[39;00m,\n\u001b[1;32m    329\u001b[0m         stacklevel\u001b[38;5;241m=\u001b[39mfind_stack_level(),\n\u001b[1;32m    330\u001b[0m     )\n\u001b[0;32m--> 331\u001b[0m \u001b[38;5;28;01mreturn\u001b[39;00m \u001b[43mfunc\u001b[49m\u001b[43m(\u001b[49m\u001b[38;5;241;43m*\u001b[39;49m\u001b[43margs\u001b[49m\u001b[43m,\u001b[49m\u001b[43m \u001b[49m\u001b[38;5;241;43m*\u001b[39;49m\u001b[38;5;241;43m*\u001b[39;49m\u001b[43mkwargs\u001b[49m\u001b[43m)\u001b[49m\n",
      "\u001b[0;31mTypeError\u001b[0m: concat() got multiple values for argument 'axis'"
     ]
    }
   ],
   "source": [
    "pd.concat(all_data, pd.concat([all_data[x]/all_data['Npoints'] for x in ['DAPI', 'NeuN', 'mito-b']], axis=1)"
   ]
  },
  {
   "cell_type": "code",
   "execution_count": 35,
   "id": "f7c04fcc-9217-41c6-9813-80947a7f0e57",
   "metadata": {},
   "outputs": [
    {
     "data": {
      "text/plain": [
       "{'neuronbatch09062023_cellrox_neuN': ['DAPI',\n",
       "  'NeuN',\n",
       "  'Tuj',\n",
       "  'cellrox',\n",
       "  'cellvolume',\n",
       "  'Npoints',\n",
       "  'Tuj-b',\n",
       "  'cellrox-b',\n",
       "  'ID'],\n",
       " 'neuronbatch09062023_mitohealth_neuN': ['DAPI',\n",
       "  'NeuN',\n",
       "  'Tuj',\n",
       "  'mito',\n",
       "  'cellvolume',\n",
       "  'Npoints',\n",
       "  'Tuj-b',\n",
       "  'mito-b',\n",
       "  'ID'],\n",
       " 'neuronbatch10132023_cellrox': ['DAPI',\n",
       "  'NeuN',\n",
       "  'Tuj',\n",
       "  'cellrox',\n",
       "  'cellvolume',\n",
       "  'Npoints',\n",
       "  'Tuj-b',\n",
       "  'cellrox-b',\n",
       "  'ID'],\n",
       " 'neuronbatch10132023_mitohealth': ['DAPI',\n",
       "  'NeuN',\n",
       "  'Tuj',\n",
       "  'mito',\n",
       "  'cellvolume',\n",
       "  'Npoints',\n",
       "  'Tuj-b',\n",
       "  'mito-b',\n",
       "  'ID'],\n",
       " 'neuronbatch101823_cellrox': ['DAPI',\n",
       "  'NeuN',\n",
       "  'cellrox',\n",
       "  'cellvolume',\n",
       "  'Npoints',\n",
       "  'cellrox-b',\n",
       "  'ID'],\n",
       " 'neuronbatch101823_mitohealth': ['DAPI',\n",
       "  'NeuN',\n",
       "  'mito',\n",
       "  'cellvolume',\n",
       "  'Npoints',\n",
       "  'mito-b',\n",
       "  'ID'],\n",
       " 'neuronbatch102523_cellrox': ['DAPI',\n",
       "  'NeuN',\n",
       "  'cellrox',\n",
       "  'cellvolume',\n",
       "  'Npoints',\n",
       "  'cellrox-b',\n",
       "  'ID'],\n",
       " 'neuronbatch102523_mito': ['DAPI',\n",
       "  'NeuN',\n",
       "  'mito',\n",
       "  'cellvolume',\n",
       "  'Npoints',\n",
       "  'mito-b',\n",
       "  'ID'],\n",
       " 'neuronbatch11012023_cellrox_bodipy': ['DAPI',\n",
       "  'NeuN',\n",
       "  'bodipy',\n",
       "  'cellrox',\n",
       "  'cellvolume',\n",
       "  'Npoints',\n",
       "  'bodipy-b',\n",
       "  'cellrox-b',\n",
       "  'ID'],\n",
       " 'neuronbatch11012023_mitohealth': ['DAPI',\n",
       "  'NeuN',\n",
       "  'mito',\n",
       "  'cellvolume',\n",
       "  'Npoints',\n",
       "  'mito-b',\n",
       "  'ID'],\n",
       " 'neuronbatch11082023_cellrox_bodipy': ['DAPI',\n",
       "  'NeuN',\n",
       "  'bodipy',\n",
       "  'cellrox',\n",
       "  'cellvolume',\n",
       "  'Npoints',\n",
       "  'bodipy-b',\n",
       "  'cellrox-b',\n",
       "  'ID'],\n",
       " 'neuronbatch11082023_mitohealth': ['DAPI',\n",
       "  'NeuN',\n",
       "  'mito',\n",
       "  'cellvolume',\n",
       "  'Npoints',\n",
       "  'mito-b',\n",
       "  'ID']}"
      ]
     },
     "execution_count": 35,
     "metadata": {},
     "output_type": "execute_result"
    }
   ],
   "source": [
    "colnames_dict"
   ]
  },
  {
   "cell_type": "code",
   "execution_count": 30,
   "id": "a1ac3a19-90f7-44ab-87bd-8b1f2a40378e",
   "metadata": {},
   "outputs": [
    {
     "data": {
      "text/html": [
       "<div>\n",
       "<style scoped>\n",
       "    .dataframe tbody tr th:only-of-type {\n",
       "        vertical-align: middle;\n",
       "    }\n",
       "\n",
       "    .dataframe tbody tr th {\n",
       "        vertical-align: top;\n",
       "    }\n",
       "\n",
       "    .dataframe thead th {\n",
       "        text-align: right;\n",
       "    }\n",
       "</style>\n",
       "<table border=\"1\" class=\"dataframe\">\n",
       "  <thead>\n",
       "    <tr style=\"text-align: right;\">\n",
       "      <th></th>\n",
       "      <th>filename</th>\n",
       "      <th>ID</th>\n",
       "      <th>batch</th>\n",
       "      <th>well_name</th>\n",
       "      <th>slurm_name</th>\n",
       "      <th>treatment</th>\n",
       "      <th>line</th>\n",
       "      <th>job_done</th>\n",
       "      <th>randID</th>\n",
       "    </tr>\n",
       "  </thead>\n",
       "  <tbody>\n",
       "    <tr>\n",
       "      <th>0</th>\n",
       "      <td>B03-1</td>\n",
       "      <td>0</td>\n",
       "      <td>neuronbatch11082023_mitohealth</td>\n",
       "      <td>B03</td>\n",
       "      <td>slurm-24462267_0.out</td>\n",
       "      <td>vehicle</td>\n",
       "      <td>E3</td>\n",
       "      <td>True</td>\n",
       "      <td>3546248239</td>\n",
       "    </tr>\n",
       "    <tr>\n",
       "      <th>1</th>\n",
       "      <td>B03-2</td>\n",
       "      <td>1</td>\n",
       "      <td>neuronbatch11082023_mitohealth</td>\n",
       "      <td>B03</td>\n",
       "      <td>slurm-24462267_1.out</td>\n",
       "      <td>vehicle</td>\n",
       "      <td>E3</td>\n",
       "      <td>True</td>\n",
       "      <td>9577843435</td>\n",
       "    </tr>\n",
       "    <tr>\n",
       "      <th>2</th>\n",
       "      <td>B04-1</td>\n",
       "      <td>2</td>\n",
       "      <td>neuronbatch11082023_mitohealth</td>\n",
       "      <td>B04</td>\n",
       "      <td>slurm-24462267_2.out</td>\n",
       "      <td>CDP-choline</td>\n",
       "      <td>E3</td>\n",
       "      <td>True</td>\n",
       "      <td>1794921487</td>\n",
       "    </tr>\n",
       "    <tr>\n",
       "      <th>3</th>\n",
       "      <td>B05-1</td>\n",
       "      <td>3</td>\n",
       "      <td>neuronbatch11082023_mitohealth</td>\n",
       "      <td>B05</td>\n",
       "      <td>slurm-24462267_3.out</td>\n",
       "      <td>CDP-choline</td>\n",
       "      <td>E3</td>\n",
       "      <td>True</td>\n",
       "      <td>9893695640</td>\n",
       "    </tr>\n",
       "    <tr>\n",
       "      <th>4</th>\n",
       "      <td>B06-1</td>\n",
       "      <td>4</td>\n",
       "      <td>neuronbatch11082023_mitohealth</td>\n",
       "      <td>B06</td>\n",
       "      <td>slurm-24462267_4.out</td>\n",
       "      <td>sn-glycero-3-phosphocholine</td>\n",
       "      <td>E3</td>\n",
       "      <td>True</td>\n",
       "      <td>8969831272</td>\n",
       "    </tr>\n",
       "    <tr>\n",
       "      <th>...</th>\n",
       "      <td>...</td>\n",
       "      <td>...</td>\n",
       "      <td>...</td>\n",
       "      <td>...</td>\n",
       "      <td>...</td>\n",
       "      <td>...</td>\n",
       "      <td>...</td>\n",
       "      <td>...</td>\n",
       "      <td>...</td>\n",
       "    </tr>\n",
       "    <tr>\n",
       "      <th>67</th>\n",
       "      <td>G09-1</td>\n",
       "      <td>67</td>\n",
       "      <td>neuronbatch11082023_mitohealth</td>\n",
       "      <td>G09</td>\n",
       "      <td>slurm-24462267_67.out</td>\n",
       "      <td>rosiglitazone</td>\n",
       "      <td>G2</td>\n",
       "      <td>True</td>\n",
       "      <td>8901905755</td>\n",
       "    </tr>\n",
       "    <tr>\n",
       "      <th>68</th>\n",
       "      <td>G10-1</td>\n",
       "      <td>68</td>\n",
       "      <td>neuronbatch11082023_mitohealth</td>\n",
       "      <td>G10</td>\n",
       "      <td>slurm-24462267_68.out</td>\n",
       "      <td>GW501516</td>\n",
       "      <td>G2</td>\n",
       "      <td>True</td>\n",
       "      <td>3301945500</td>\n",
       "    </tr>\n",
       "    <tr>\n",
       "      <th>69</th>\n",
       "      <td>G10-2</td>\n",
       "      <td>69</td>\n",
       "      <td>neuronbatch11082023_mitohealth</td>\n",
       "      <td>G10</td>\n",
       "      <td>slurm-24462267_69.out</td>\n",
       "      <td>GW501516</td>\n",
       "      <td>G2</td>\n",
       "      <td>True</td>\n",
       "      <td>7854011499</td>\n",
       "    </tr>\n",
       "    <tr>\n",
       "      <th>70</th>\n",
       "      <td>G11-1</td>\n",
       "      <td>70</td>\n",
       "      <td>neuronbatch11082023_mitohealth</td>\n",
       "      <td>G11</td>\n",
       "      <td>slurm-24462267_70.out</td>\n",
       "      <td>DGAT1/2i</td>\n",
       "      <td>G2</td>\n",
       "      <td>True</td>\n",
       "      <td>9946691864</td>\n",
       "    </tr>\n",
       "    <tr>\n",
       "      <th>71</th>\n",
       "      <td>G11-2</td>\n",
       "      <td>71</td>\n",
       "      <td>neuronbatch11082023_mitohealth</td>\n",
       "      <td>G11</td>\n",
       "      <td>slurm-24462267_71.out</td>\n",
       "      <td>DGAT1/2i</td>\n",
       "      <td>G2</td>\n",
       "      <td>True</td>\n",
       "      <td>4061957928</td>\n",
       "    </tr>\n",
       "  </tbody>\n",
       "</table>\n",
       "<p>72 rows × 9 columns</p>\n",
       "</div>"
      ],
      "text/plain": [
       "   filename  ID                           batch well_name  \\\n",
       "0     B03-1   0  neuronbatch11082023_mitohealth       B03   \n",
       "1     B03-2   1  neuronbatch11082023_mitohealth       B03   \n",
       "2     B04-1   2  neuronbatch11082023_mitohealth       B04   \n",
       "3     B05-1   3  neuronbatch11082023_mitohealth       B05   \n",
       "4     B06-1   4  neuronbatch11082023_mitohealth       B06   \n",
       "..      ...  ..                             ...       ...   \n",
       "67    G09-1  67  neuronbatch11082023_mitohealth       G09   \n",
       "68    G10-1  68  neuronbatch11082023_mitohealth       G10   \n",
       "69    G10-2  69  neuronbatch11082023_mitohealth       G10   \n",
       "70    G11-1  70  neuronbatch11082023_mitohealth       G11   \n",
       "71    G11-2  71  neuronbatch11082023_mitohealth       G11   \n",
       "\n",
       "               slurm_name                    treatment line  job_done  \\\n",
       "0    slurm-24462267_0.out                      vehicle   E3      True   \n",
       "1    slurm-24462267_1.out                      vehicle   E3      True   \n",
       "2    slurm-24462267_2.out                  CDP-choline   E3      True   \n",
       "3    slurm-24462267_3.out                  CDP-choline   E3      True   \n",
       "4    slurm-24462267_4.out  sn-glycero-3-phosphocholine   E3      True   \n",
       "..                    ...                          ...  ...       ...   \n",
       "67  slurm-24462267_67.out                rosiglitazone   G2      True   \n",
       "68  slurm-24462267_68.out                     GW501516   G2      True   \n",
       "69  slurm-24462267_69.out                     GW501516   G2      True   \n",
       "70  slurm-24462267_70.out                     DGAT1/2i   G2      True   \n",
       "71  slurm-24462267_71.out                     DGAT1/2i   G2      True   \n",
       "\n",
       "        randID  \n",
       "0   3546248239  \n",
       "1   9577843435  \n",
       "2   1794921487  \n",
       "3   9893695640  \n",
       "4   8969831272  \n",
       "..         ...  \n",
       "67  8901905755  \n",
       "68  3301945500  \n",
       "69  7854011499  \n",
       "70  9946691864  \n",
       "71  4061957928  \n",
       "\n",
       "[72 rows x 9 columns]"
      ]
     },
     "execution_count": 30,
     "metadata": {},
     "output_type": "execute_result"
    }
   ],
   "source": [
    "    # extract Y per batch\n",
    "colnames = colnames_dict[batch]\n",
    "    Y_extracted = concatenate_Y(Nfiles, Y, cells_per_job, Ncells, colnames)"
   ]
  },
  {
   "cell_type": "code",
   "execution_count": 21,
   "id": "9be185e1-83c8-4b28-b896-23cfeb2368b3",
   "metadata": {},
   "outputs": [
    {
     "name": "stderr",
     "output_type": "stream",
     "text": [
      "100%|██████████| 72/72 [00:01<00:00, 51.04it/s]\n"
     ]
    }
   ],
   "source": [
    "res = []\n",
    "for i in tqdm(range(df.shape[0])):\n",
    "    file = '../'+df['batch'][i]+'_out/' + df['slurm_name'][i]\n",
    "    res.append(is_string_present(file, 'done'))\n",
    "\n",
    "df['job_done'] = res"
   ]
  },
  {
   "cell_type": "code",
   "execution_count": 22,
   "id": "bab5e7d2-99ae-474d-9b6f-0331f5f5d448",
   "metadata": {},
   "outputs": [
    {
     "data": {
      "text/html": [
       "<div>\n",
       "<style scoped>\n",
       "    .dataframe tbody tr th:only-of-type {\n",
       "        vertical-align: middle;\n",
       "    }\n",
       "\n",
       "    .dataframe tbody tr th {\n",
       "        vertical-align: top;\n",
       "    }\n",
       "\n",
       "    .dataframe thead th {\n",
       "        text-align: right;\n",
       "    }\n",
       "</style>\n",
       "<table border=\"1\" class=\"dataframe\">\n",
       "  <thead>\n",
       "    <tr style=\"text-align: right;\">\n",
       "      <th></th>\n",
       "      <th>filename</th>\n",
       "      <th>ID</th>\n",
       "      <th>batch</th>\n",
       "      <th>well_name</th>\n",
       "      <th>slurm_name</th>\n",
       "      <th>treatment</th>\n",
       "      <th>line</th>\n",
       "      <th>job_done</th>\n",
       "    </tr>\n",
       "  </thead>\n",
       "  <tbody>\n",
       "    <tr>\n",
       "      <th>0</th>\n",
       "      <td>B03-1</td>\n",
       "      <td>0</td>\n",
       "      <td>neuronbatch11082023_mitohealth</td>\n",
       "      <td>B03</td>\n",
       "      <td>slurm-24462267_0.out</td>\n",
       "      <td>vehicle</td>\n",
       "      <td>E3</td>\n",
       "      <td>True</td>\n",
       "    </tr>\n",
       "    <tr>\n",
       "      <th>1</th>\n",
       "      <td>B03-2</td>\n",
       "      <td>1</td>\n",
       "      <td>neuronbatch11082023_mitohealth</td>\n",
       "      <td>B03</td>\n",
       "      <td>slurm-24462267_1.out</td>\n",
       "      <td>vehicle</td>\n",
       "      <td>E3</td>\n",
       "      <td>True</td>\n",
       "    </tr>\n",
       "    <tr>\n",
       "      <th>2</th>\n",
       "      <td>B04-1</td>\n",
       "      <td>2</td>\n",
       "      <td>neuronbatch11082023_mitohealth</td>\n",
       "      <td>B04</td>\n",
       "      <td>slurm-24462267_2.out</td>\n",
       "      <td>CDP-choline</td>\n",
       "      <td>E3</td>\n",
       "      <td>True</td>\n",
       "    </tr>\n",
       "    <tr>\n",
       "      <th>3</th>\n",
       "      <td>B05-1</td>\n",
       "      <td>3</td>\n",
       "      <td>neuronbatch11082023_mitohealth</td>\n",
       "      <td>B05</td>\n",
       "      <td>slurm-24462267_3.out</td>\n",
       "      <td>CDP-choline</td>\n",
       "      <td>E3</td>\n",
       "      <td>True</td>\n",
       "    </tr>\n",
       "    <tr>\n",
       "      <th>4</th>\n",
       "      <td>B06-1</td>\n",
       "      <td>4</td>\n",
       "      <td>neuronbatch11082023_mitohealth</td>\n",
       "      <td>B06</td>\n",
       "      <td>slurm-24462267_4.out</td>\n",
       "      <td>sn-glycero-3-phosphocholine</td>\n",
       "      <td>E3</td>\n",
       "      <td>True</td>\n",
       "    </tr>\n",
       "    <tr>\n",
       "      <th>...</th>\n",
       "      <td>...</td>\n",
       "      <td>...</td>\n",
       "      <td>...</td>\n",
       "      <td>...</td>\n",
       "      <td>...</td>\n",
       "      <td>...</td>\n",
       "      <td>...</td>\n",
       "      <td>...</td>\n",
       "    </tr>\n",
       "    <tr>\n",
       "      <th>67</th>\n",
       "      <td>G09-1</td>\n",
       "      <td>67</td>\n",
       "      <td>neuronbatch11082023_mitohealth</td>\n",
       "      <td>G09</td>\n",
       "      <td>slurm-24462267_67.out</td>\n",
       "      <td>rosiglitazone</td>\n",
       "      <td>G2</td>\n",
       "      <td>True</td>\n",
       "    </tr>\n",
       "    <tr>\n",
       "      <th>68</th>\n",
       "      <td>G10-1</td>\n",
       "      <td>68</td>\n",
       "      <td>neuronbatch11082023_mitohealth</td>\n",
       "      <td>G10</td>\n",
       "      <td>slurm-24462267_68.out</td>\n",
       "      <td>GW501516</td>\n",
       "      <td>G2</td>\n",
       "      <td>True</td>\n",
       "    </tr>\n",
       "    <tr>\n",
       "      <th>69</th>\n",
       "      <td>G10-2</td>\n",
       "      <td>69</td>\n",
       "      <td>neuronbatch11082023_mitohealth</td>\n",
       "      <td>G10</td>\n",
       "      <td>slurm-24462267_69.out</td>\n",
       "      <td>GW501516</td>\n",
       "      <td>G2</td>\n",
       "      <td>True</td>\n",
       "    </tr>\n",
       "    <tr>\n",
       "      <th>70</th>\n",
       "      <td>G11-1</td>\n",
       "      <td>70</td>\n",
       "      <td>neuronbatch11082023_mitohealth</td>\n",
       "      <td>G11</td>\n",
       "      <td>slurm-24462267_70.out</td>\n",
       "      <td>DGAT1/2i</td>\n",
       "      <td>G2</td>\n",
       "      <td>True</td>\n",
       "    </tr>\n",
       "    <tr>\n",
       "      <th>71</th>\n",
       "      <td>G11-2</td>\n",
       "      <td>71</td>\n",
       "      <td>neuronbatch11082023_mitohealth</td>\n",
       "      <td>G11</td>\n",
       "      <td>slurm-24462267_71.out</td>\n",
       "      <td>DGAT1/2i</td>\n",
       "      <td>G2</td>\n",
       "      <td>True</td>\n",
       "    </tr>\n",
       "  </tbody>\n",
       "</table>\n",
       "<p>72 rows × 8 columns</p>\n",
       "</div>"
      ],
      "text/plain": [
       "   filename  ID                           batch well_name  \\\n",
       "0     B03-1   0  neuronbatch11082023_mitohealth       B03   \n",
       "1     B03-2   1  neuronbatch11082023_mitohealth       B03   \n",
       "2     B04-1   2  neuronbatch11082023_mitohealth       B04   \n",
       "3     B05-1   3  neuronbatch11082023_mitohealth       B05   \n",
       "4     B06-1   4  neuronbatch11082023_mitohealth       B06   \n",
       "..      ...  ..                             ...       ...   \n",
       "67    G09-1  67  neuronbatch11082023_mitohealth       G09   \n",
       "68    G10-1  68  neuronbatch11082023_mitohealth       G10   \n",
       "69    G10-2  69  neuronbatch11082023_mitohealth       G10   \n",
       "70    G11-1  70  neuronbatch11082023_mitohealth       G11   \n",
       "71    G11-2  71  neuronbatch11082023_mitohealth       G11   \n",
       "\n",
       "               slurm_name                    treatment line  job_done  \n",
       "0    slurm-24462267_0.out                      vehicle   E3      True  \n",
       "1    slurm-24462267_1.out                      vehicle   E3      True  \n",
       "2    slurm-24462267_2.out                  CDP-choline   E3      True  \n",
       "3    slurm-24462267_3.out                  CDP-choline   E3      True  \n",
       "4    slurm-24462267_4.out  sn-glycero-3-phosphocholine   E3      True  \n",
       "..                    ...                          ...  ...       ...  \n",
       "67  slurm-24462267_67.out                rosiglitazone   G2      True  \n",
       "68  slurm-24462267_68.out                     GW501516   G2      True  \n",
       "69  slurm-24462267_69.out                     GW501516   G2      True  \n",
       "70  slurm-24462267_70.out                     DGAT1/2i   G2      True  \n",
       "71  slurm-24462267_71.out                     DGAT1/2i   G2      True  \n",
       "\n",
       "[72 rows x 8 columns]"
      ]
     },
     "execution_count": 22,
     "metadata": {},
     "output_type": "execute_result"
    }
   ],
   "source": [
    "df"
   ]
  },
  {
   "cell_type": "markdown",
   "id": "946d4039-198a-4e28-9bdc-fb3c31d7404d",
   "metadata": {},
   "source": [
    "### 1. Create metadata file"
   ]
  },
  {
   "cell_type": "code",
   "execution_count": 4,
   "id": "3cfacd2e-7bd4-424a-8ca8-bc2e54467f32",
   "metadata": {},
   "outputs": [],
   "source": [
    "parent_path = '/home/gridsan/djuna/homer/github/confocalQuant/'\n",
    "dirs = np.array(os.listdir('../'))\n",
    "out_dirs = dirs[['neuron' in x for x in dirs]]\n",
    "in_dirs = [x.split('_out')[0] for x in out_dirs]"
   ]
  },
  {
   "cell_type": "code",
   "execution_count": null,
   "id": "eff5b6e7-8630-4aa9-b4db-0e9f47004acc",
   "metadata": {},
   "outputs": [],
   "source": [
    "print(in_dirs)"
   ]
  },
  {
   "cell_type": "code",
   "execution_count": 5,
   "id": "6923a009-3e49-463e-846d-912f21f60427",
   "metadata": {
    "tags": []
   },
   "outputs": [
    {
     "name": "stderr",
     "output_type": "stream",
     "text": [
      "100%|██████████| 12/12 [00:00<00:00, 31.16it/s]\n"
     ]
    }
   ],
   "source": [
    "# combine all file info\n",
    "all_data = []\n",
    "\n",
    "for i in tqdm(range(len(in_dirs))):\n",
    "    im_path_root = parent_path + 'data/' + in_dirs[i]\n",
    "    out_path_root = parent_path + 'outs/' + out_dirs[i]\n",
    "    \n",
    "    in_file_names = get_czi_files(im_path_root)\n",
    "    out_file_names = get_out_files(out_path_root)\n",
    "    \n",
    "    df = pd.DataFrame([x.split('.')[0] for x in in_file_names])\n",
    "    df.columns = ['filename']\n",
    "    df['ID'] = range(len(in_file_names))\n",
    "    df['batch'] = in_dirs[i]\n",
    "    wellname = [x.split('-')[0] for x in df['filename']]\n",
    "    df['well_name'] = wellname\n",
    "    dictionary = dict(zip([int(x.split('_')[1].split('.')[0]) for x in out_file_names], out_file_names))\n",
    "    df['slurm_name'] = [dictionary[x] for x in df['ID']]\n",
    "    \n",
    "    add_metadata(df, im_path_root+'/temp.csv')\n",
    "    \n",
    "    all_data.append(df)\n",
    "    \n",
    "im_data = pd.DataFrame(np.vstack(all_data))\n",
    "im_data.columns = ['filename', 'fileID', 'batch', 'well_name', 'slurm_file', 'treatment', 'line']"
   ]
  },
  {
   "cell_type": "code",
   "execution_count": null,
   "id": "f87fc65e-9f78-4305-aedc-1f3a4511a61e",
   "metadata": {},
   "outputs": [],
   "source": []
  },
  {
   "cell_type": "code",
   "execution_count": 6,
   "id": "ea586386-a497-48d3-a0d2-5eaa9511a873",
   "metadata": {},
   "outputs": [
    {
     "data": {
      "text/html": [
       "<div>\n",
       "<style scoped>\n",
       "    .dataframe tbody tr th:only-of-type {\n",
       "        vertical-align: middle;\n",
       "    }\n",
       "\n",
       "    .dataframe tbody tr th {\n",
       "        vertical-align: top;\n",
       "    }\n",
       "\n",
       "    .dataframe thead th {\n",
       "        text-align: right;\n",
       "    }\n",
       "</style>\n",
       "<table border=\"1\" class=\"dataframe\">\n",
       "  <thead>\n",
       "    <tr style=\"text-align: right;\">\n",
       "      <th></th>\n",
       "      <th>filename</th>\n",
       "      <th>fileID</th>\n",
       "      <th>batch</th>\n",
       "      <th>well_name</th>\n",
       "      <th>slurm_file</th>\n",
       "      <th>treatment</th>\n",
       "      <th>line</th>\n",
       "    </tr>\n",
       "  </thead>\n",
       "  <tbody>\n",
       "    <tr>\n",
       "      <th>0</th>\n",
       "      <td>C10</td>\n",
       "      <td>0</td>\n",
       "      <td>neuronbatch10132023_cellrox</td>\n",
       "      <td>C10</td>\n",
       "      <td>slurm-24409544_0.out</td>\n",
       "      <td>DGATi</td>\n",
       "      <td>Y622</td>\n",
       "    </tr>\n",
       "    <tr>\n",
       "      <th>1</th>\n",
       "      <td>C2</td>\n",
       "      <td>1</td>\n",
       "      <td>neuronbatch10132023_cellrox</td>\n",
       "      <td>C2</td>\n",
       "      <td>slurm-24409544_1.out</td>\n",
       "      <td>vehicle</td>\n",
       "      <td>Y622</td>\n",
       "    </tr>\n",
       "    <tr>\n",
       "      <th>2</th>\n",
       "      <td>C3</td>\n",
       "      <td>2</td>\n",
       "      <td>neuronbatch10132023_cellrox</td>\n",
       "      <td>C3</td>\n",
       "      <td>slurm-24409544_2.out</td>\n",
       "      <td>vehicle</td>\n",
       "      <td>Y622</td>\n",
       "    </tr>\n",
       "    <tr>\n",
       "      <th>3</th>\n",
       "      <td>C4</td>\n",
       "      <td>3</td>\n",
       "      <td>neuronbatch10132023_cellrox</td>\n",
       "      <td>C4</td>\n",
       "      <td>slurm-24409544_3.out</td>\n",
       "      <td>CDP-choline</td>\n",
       "      <td>Y622</td>\n",
       "    </tr>\n",
       "    <tr>\n",
       "      <th>4</th>\n",
       "      <td>C5</td>\n",
       "      <td>4</td>\n",
       "      <td>neuronbatch10132023_cellrox</td>\n",
       "      <td>C5</td>\n",
       "      <td>slurm-24409544_4.out</td>\n",
       "      <td>CDP-choline</td>\n",
       "      <td>Y622</td>\n",
       "    </tr>\n",
       "  </tbody>\n",
       "</table>\n",
       "</div>"
      ],
      "text/plain": [
       "  filename fileID                        batch well_name  \\\n",
       "0      C10      0  neuronbatch10132023_cellrox       C10   \n",
       "1       C2      1  neuronbatch10132023_cellrox        C2   \n",
       "2       C3      2  neuronbatch10132023_cellrox        C3   \n",
       "3       C4      3  neuronbatch10132023_cellrox        C4   \n",
       "4       C5      4  neuronbatch10132023_cellrox        C5   \n",
       "\n",
       "             slurm_file    treatment  line  \n",
       "0  slurm-24409544_0.out        DGATi  Y622  \n",
       "1  slurm-24409544_1.out      vehicle  Y622  \n",
       "2  slurm-24409544_2.out      vehicle  Y622  \n",
       "3  slurm-24409544_3.out  CDP-choline  Y622  \n",
       "4  slurm-24409544_4.out  CDP-choline  Y622  "
      ]
     },
     "execution_count": 6,
     "metadata": {},
     "output_type": "execute_result"
    }
   ],
   "source": [
    "im_data.head()"
   ]
  },
  {
   "cell_type": "code",
   "execution_count": 7,
   "id": "77e269d2-068b-4ddf-a8c9-f90a0c24f2fc",
   "metadata": {},
   "outputs": [
    {
     "name": "stderr",
     "output_type": "stream",
     "text": [
      "100%|██████████| 529/529 [00:11<00:00, 47.43it/s]\n"
     ]
    }
   ],
   "source": [
    "# add info on whether job finished runnning\n",
    "res = []\n",
    "for i in tqdm(range(im_data.shape[0])):\n",
    "    file = '../'+im_data['batch'][i]+'_out/' + im_data['slurm_file'][i]\n",
    "    res.append(is_string_present(file, 'done'))\n",
    "\n",
    "im_data['job_done'] = res"
   ]
  },
  {
   "cell_type": "code",
   "execution_count": 8,
   "id": "81c07879-6faa-4035-8a96-fc0aa5a0434d",
   "metadata": {},
   "outputs": [],
   "source": [
    "# add unique image ID\n",
    "np.random.seed(5)\n",
    "im_data['unique_image_ID'] = [np.random.randint(10**9, 10**10) for x in range(im_data.shape[0])]"
   ]
  },
  {
   "cell_type": "code",
   "execution_count": 9,
   "id": "fb81fc1b-6bbb-41e1-b93c-0fc4d3fb8854",
   "metadata": {},
   "outputs": [
    {
     "data": {
      "text/plain": [
       "True"
      ]
     },
     "execution_count": 9,
     "metadata": {},
     "output_type": "execute_result"
    }
   ],
   "source": [
    "# a few checks\n",
    "im_data[np.invert(im_data['job_done'])]\n",
    "random_10_digit_number = im_data['unique_image_ID']\n",
    "len(np.unique(random_10_digit_number))==len(random_10_digit_number)"
   ]
  },
  {
   "cell_type": "code",
   "execution_count": 10,
   "id": "b0ffe1cf-5ca0-4446-aecf-57142729bc21",
   "metadata": {},
   "outputs": [],
   "source": [
    "# add 'keep' column to populate later\n",
    "im_data['keep'] = np.nan"
   ]
  },
  {
   "cell_type": "code",
   "execution_count": 11,
   "id": "e0035e1d-1d30-45e5-85c7-fad6ce868d1b",
   "metadata": {},
   "outputs": [
    {
     "data": {
      "text/plain": [
       "(array([ True]), array([529]))"
      ]
     },
     "execution_count": 11,
     "metadata": {},
     "output_type": "execute_result"
    }
   ],
   "source": [
    "np.unique(im_data['job_done'], return_counts=True)"
   ]
  },
  {
   "cell_type": "code",
   "execution_count": 12,
   "id": "4ea443cf-0fe3-4bc5-b0b4-eef4781e379b",
   "metadata": {},
   "outputs": [
    {
     "data": {
      "text/html": [
       "<div>\n",
       "<style scoped>\n",
       "    .dataframe tbody tr th:only-of-type {\n",
       "        vertical-align: middle;\n",
       "    }\n",
       "\n",
       "    .dataframe tbody tr th {\n",
       "        vertical-align: top;\n",
       "    }\n",
       "\n",
       "    .dataframe thead th {\n",
       "        text-align: right;\n",
       "    }\n",
       "</style>\n",
       "<table border=\"1\" class=\"dataframe\">\n",
       "  <thead>\n",
       "    <tr style=\"text-align: right;\">\n",
       "      <th></th>\n",
       "      <th>filename</th>\n",
       "      <th>fileID</th>\n",
       "      <th>batch</th>\n",
       "      <th>well_name</th>\n",
       "      <th>slurm_file</th>\n",
       "      <th>treatment</th>\n",
       "      <th>line</th>\n",
       "      <th>job_done</th>\n",
       "      <th>unique_image_ID</th>\n",
       "      <th>keep</th>\n",
       "    </tr>\n",
       "  </thead>\n",
       "  <tbody>\n",
       "  </tbody>\n",
       "</table>\n",
       "</div>"
      ],
      "text/plain": [
       "Empty DataFrame\n",
       "Columns: [filename, fileID, batch, well_name, slurm_file, treatment, line, job_done, unique_image_ID, keep]\n",
       "Index: []"
      ]
     },
     "execution_count": 12,
     "metadata": {},
     "output_type": "execute_result"
    }
   ],
   "source": [
    "im_data[im_data['job_done']==False]"
   ]
  },
  {
   "cell_type": "code",
   "execution_count": 13,
   "id": "6718f271-3d0c-4d6a-8a50-a8f3f83c52b5",
   "metadata": {},
   "outputs": [],
   "source": [
    "im_data = im_data[[x in set(['neuronbatch11082023_cellrox_bodipy']) for x in im_data['batch']]]"
   ]
  },
  {
   "cell_type": "code",
   "execution_count": 20,
   "id": "d10ab1e5-d981-4bc6-820e-fc09628ce033",
   "metadata": {},
   "outputs": [
    {
     "data": {
      "text/html": [
       "<div>\n",
       "<style scoped>\n",
       "    .dataframe tbody tr th:only-of-type {\n",
       "        vertical-align: middle;\n",
       "    }\n",
       "\n",
       "    .dataframe tbody tr th {\n",
       "        vertical-align: top;\n",
       "    }\n",
       "\n",
       "    .dataframe thead th {\n",
       "        text-align: right;\n",
       "    }\n",
       "</style>\n",
       "<table border=\"1\" class=\"dataframe\">\n",
       "  <thead>\n",
       "    <tr style=\"text-align: right;\">\n",
       "      <th></th>\n",
       "      <th>filename</th>\n",
       "      <th>fileID</th>\n",
       "      <th>batch</th>\n",
       "      <th>well_name</th>\n",
       "      <th>slurm_file</th>\n",
       "      <th>treatment</th>\n",
       "      <th>line</th>\n",
       "      <th>job_done</th>\n",
       "      <th>unique_image_ID</th>\n",
       "      <th>keep</th>\n",
       "    </tr>\n",
       "  </thead>\n",
       "  <tbody>\n",
       "    <tr>\n",
       "      <th>321</th>\n",
       "      <td>D10-1</td>\n",
       "      <td>28</td>\n",
       "      <td>neuronbatch11082023_cellrox_bodipy</td>\n",
       "      <td>D10</td>\n",
       "      <td>slurm-24454254_28.out</td>\n",
       "      <td>GW501516</td>\n",
       "      <td>Y622</td>\n",
       "      <td>True</td>\n",
       "      <td>5003688641</td>\n",
       "      <td>NaN</td>\n",
       "    </tr>\n",
       "  </tbody>\n",
       "</table>\n",
       "</div>"
      ],
      "text/plain": [
       "    filename fileID                               batch well_name  \\\n",
       "321    D10-1     28  neuronbatch11082023_cellrox_bodipy       D10   \n",
       "\n",
       "                slurm_file treatment  line  job_done  unique_image_ID  keep  \n",
       "321  slurm-24454254_28.out  GW501516  Y622      True       5003688641   NaN  "
      ]
     },
     "execution_count": 20,
     "metadata": {},
     "output_type": "execute_result"
    }
   ],
   "source": [
    "im_data[im_data['unique_image_ID']==5003688641]"
   ]
  },
  {
   "cell_type": "code",
   "execution_count": 22,
   "id": "d373f27e-bad3-4c35-874e-23c10a477558",
   "metadata": {},
   "outputs": [
    {
     "data": {
      "text/plain": [
       "0.5"
      ]
     },
     "execution_count": 22,
     "metadata": {},
     "output_type": "execute_result"
    }
   ],
   "source": [
    "np.percentile([0,0,0.5], 100)"
   ]
  },
  {
   "cell_type": "markdown",
   "id": "48afe7fc-f7c7-4c47-a2b9-e7a1560c7b74",
   "metadata": {},
   "source": [
    "### 2. add the Y_data to this datatable"
   ]
  },
  {
   "cell_type": "code",
   "execution_count": 17,
   "id": "4c507b7e-2974-4bde-9b2b-0a7a444c6b42",
   "metadata": {
    "tags": []
   },
   "outputs": [
    {
     "name": "stderr",
     "output_type": "stream",
     "text": [
      "100%|██████████| 68/68 [04:06<00:00,  3.62s/it]\n"
     ]
    },
    {
     "data": {
      "image/png": "[encoded data removed]",
      "text/plain": [
       "<Figure size 432x288 with 1 Axes>"
      ]
     },
     "metadata": {
      "needs_background": "light"
     },
     "output_type": "display_data"
    },
    {
     "data": {
      "image/png": "[encoded data removed]",
      "text/plain": [
       "<Figure size 432x288 with 1 Axes>"
      ]
     },
     "metadata": {
      "needs_background": "light"
     },
     "output_type": "display_data"
    },
    {
     "data": {
      "image/png": "[encoded data removed]",
      "text/plain": [
       "<Figure size 432x288 with 1 Axes>"
      ]
     },
     "metadata": {
      "needs_background": "light"
     },
     "output_type": "display_data"
    }
   ],
   "source": [
    "# make dictionaries\n",
    "x, y = np.unique(im_data['batch'], return_counts=True)\n",
    "Nfiles_dict = dict(zip(x,y))\n",
    "batches = np.unique(im_data['batch'])\n",
    "colnames = pd.read_csv('colnames.csv')\n",
    "colnames_dict = dict(zip(list(colnames['batch']), ([[x.split(\"'\")[1] for x in y.split(',')] for y in colnames['colnames']])))\n",
    "list_of_dfs = [(_, group) for _, group in im_data.groupby('batch')]\n",
    "id_dicts = [dict(zip(x[1]['fileID'], x[1]['unique_image_ID'])) for x in list_of_dfs]\n",
    "names = [x[0] for x in list_of_dfs]\n",
    "id_dicts_per_batch = dict(zip(names, id_dicts))\n",
    "\n",
    "# concat per cell Y info\n",
    "res = []\n",
    "start = 0\n",
    "end = 0\n",
    "s_index = np.empty(im_data.shape[0])\n",
    "e_index = np.empty(im_data.shape[0])\n",
    "im_index = 0\n",
    "\n",
    "for i in (range(len(batches))):\n",
    "    \n",
    "    # load data per batch\n",
    "    batch = batches[i]\n",
    "    directory = '../' + batch +'_out/'\n",
    "    path_to_sbatch_file = glob.glob(directory+'*.sbatch')[0]\n",
    "    mat, masks, Y, Ncells, Nzi, cells_per_job, zi_per_job = return_results(path_to_sbatch_file,  '../../')\n",
    "   \n",
    "    # extract Y per batch\n",
    "    Nfiles = Nfiles_dict[batch]\n",
    "    colnames = colnames_dict[batch]\n",
    "    Y_extracted = concatenate_Y(Nfiles, Y, cells_per_job, Ncells, colnames)\n",
    "    id_d = id_dicts_per_batch[batch]\n",
    "    Y_extracted['unique_image_ID'] = [id_d[int(x)] for x in Y_extracted['ID']]\n",
    "    Y_extracted['NeuN_per_point'] = Y_extracted['NeuN']/Y_extracted['Npoints']\n",
    "    Y_extracted['DAPI_per_point'] = Y_extracted['DAPI']/Y_extracted['Npoints']\n",
    "\n",
    "    # filter and append Y per batch\n",
    "    Y_filtered = filter_data(Y_extracted, 'NeuN_per_point', 'DAPI_per_point', 'cellvolume', 'wellname', lower_thresh_vol = 100, upper_thresh_vol = 10000, C_nuc=10, C_soma=10, C_nuc_upper=10, plot=True)\n",
    "    Y_extracted['keep_cell'] = [x in set(Y_filtered.index) for x in Y_extracted.index]\n",
    "    res.append(Y_extracted)\n",
    "    \n",
    "    # plot image per ID per batch\n",
    "    IDs = list(id_d.keys())\n",
    "    for ID in tqdm(range(len(IDs))):\n",
    "        save_mean_proj(ID, zi_per_job, Nzi, mat, masks, Y_extracted, Y_filtered, id_d)\n",
    "    \n",
    "\n",
    "# concatenate across all batches\n",
    "cell_data = pd.concat(res, ignore_index=True)\n"
   ]
  },
  {
   "cell_type": "code",
   "execution_count": 17,
   "id": "eb7be2d6-3388-488e-bc5b-bb426ceeb48e",
   "metadata": {},
   "outputs": [
    {
     "name": "stderr",
     "output_type": "stream",
     "text": [
      "/home/gridsan/djuna/.local/lib/python3.8/site-packages/pandas/core/internals/blocks.py:2323: RuntimeWarning: invalid value encountered in cast\n",
      "  values = values.astype(str)\n"
     ]
    }
   ],
   "source": [
    "cell_data.to_csv('./cell_data_only1108.csv')"
   ]
  },
  {
   "cell_type": "code",
   "execution_count": null,
   "id": "d356939d-49be-49a1-a824-cd035896e462",
   "metadata": {},
   "outputs": [],
   "source": [
    "# upload images to labelbox.com to determine which images to keep \n"
   ]
  },
  {
   "cell_type": "code",
   "execution_count": null,
   "id": "879f667d-52ae-469a-a74e-c5f7800fc9a1",
   "metadata": {},
   "outputs": [],
   "source": [
    "find ./segmentations -type f -newermt 2023-12-01 ! -newermt 2023-01-02 -exec tar -rvf output_files_created_on_2023-01-01.tar.gz {} +\n"
   ]
  }
 ],
 "metadata": {
  "kernelspec": {
   "display_name": "Python 3 (ipykernel)",
   "language": "python",
   "name": "python3"
  },
  "language_info": {
   "codemirror_mode": {
    "name": "ipython",
    "version": 3
   },
   "file_extension": ".py",
   "mimetype": "text/x-python",
   "name": "python",
   "nbconvert_exporter": "python",
   "pygments_lexer": "ipython3",
   "version": "3.8.13"
  }
 },
 "nbformat": 4,
 "nbformat_minor": 5
}
