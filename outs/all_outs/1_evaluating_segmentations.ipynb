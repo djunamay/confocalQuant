{
 "cells": [
  {
   "cell_type": "code",
   "execution_count": 13,
   "id": "53b81f37-03a4-4db6-9464-77fc5851dfc7",
   "metadata": {},
   "outputs": [],
   "source": [
    "#### ADD CUSTOM PATH ###\n",
    "path_to_quant = '/home/gridsan/djuna/homer/github/confocalQuant'\n",
    "import sys\n",
    "sys.path.append(path_to_quant)\n",
    "\n",
    "from confocalQuant.segmentation import toggle_filters, get_czi_files, int_to_float, impose_segmentation_all\n",
    "from confocalQuant.plotting import return_results, get_id_data\n",
    "import numpy as np\n",
    "from tqdm import tqdm"
   ]
  },
  {
   "cell_type": "code",
   "execution_count": 74,
   "id": "e802094d-f893-4554-8522-427258175f68",
   "metadata": {},
   "outputs": [],
   "source": [
    "parent_path = '../../data/neuronbatch11082023_mitohealth/'\n",
    "path_to_sbatch_file = '../neuronbatch11082023_mitohealth_out/run_jobs_110823_mito.sbatch'\n",
    "mat, masks, Y, Ncells, Nzi, cells_per_job, zi_per_job, randID_per_job = return_results(path_to_sbatch_file, '../../')\n",
    "all_files = get_czi_files(parent_path)"
   ]
  },
  {
   "cell_type": "code",
   "execution_count": 75,
   "id": "a3bccf5f-d9af-4cfa-a4ef-81981a96d13b",
   "metadata": {},
   "outputs": [
    {
     "name": "stderr",
     "output_type": "stream",
     "text": [
      "100%|██████████| 72/72 [07:52<00:00,  6.56s/it]\n"
     ]
    }
   ],
   "source": [
    "val = 1\n",
    "out_float = []\n",
    "for i in tqdm(range(len(all_files))):\n",
    "    res = impose_segmentation_all(i, zi_per_job, Nzi, mat, masks, val, data=None, data_filtered=None, hide=False)\n",
    "    out_float.append(res)"
   ]
  },
  {
   "cell_type": "code",
   "execution_count": 77,
   "id": "7aff8db4-150a-45fa-a513-77d1984c54a2",
   "metadata": {},
   "outputs": [
    {
     "data": {
      "text/plain": [
       "array([[37,  0]])"
      ]
     },
     "execution_count": 77,
     "metadata": {},
     "output_type": "execute_result"
    }
   ],
   "source": [
    "np.argwhere([x==3250930427 for x in randID_per_job])"
   ]
  },
  {
   "cell_type": "code",
   "execution_count": 76,
   "id": "a4fcb521-05bd-4568-913b-e1259ba34c24",
   "metadata": {},
   "outputs": [
    {
     "data": {
      "application/vnd.jupyter.widget-view+json": {
       "model_id": "5fe568a4a6f649e989158fe8a85f6205",
       "version_major": 2,
       "version_minor": 0
      },
      "text/plain": [
       "VBox(children=(SelectMultiple(description='Show:', index=(1,), options=(0, 1, 2), value=(1,)), SelectMultiple(…"
      ]
     },
     "metadata": {},
     "output_type": "display_data"
    }
   ],
   "source": [
    "toggle_filters(all_files, parent_path, channels, out_float)"
   ]
  }
 ],
 "metadata": {
  "kernelspec": {
   "display_name": "Python 3 (ipykernel)",
   "language": "python",
   "name": "python3"
  },
  "language_info": {
   "codemirror_mode": {
    "name": "ipython",
    "version": 3
   },
   "file_extension": ".py",
   "mimetype": "text/x-python",
   "name": "python",
   "nbconvert_exporter": "python",
   "pygments_lexer": "ipython3",
   "version": "3.8.13"
  }
 },
 "nbformat": 4,
 "nbformat_minor": 5
}
