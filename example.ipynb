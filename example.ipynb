{
 "cells": [
  {
   "cell_type": "markdown",
   "id": "6060b31a-b268-40d2-8f8b-2aaa752a3737",
   "metadata": {},
   "source": [
    "### 0.\n",
    "Install pacakges:\n",
    "\n",
    "```python\n",
    "pip install aicsimageio\n",
    "pip install cellpose\n",
    "```\n",
    "\n",
    "Download models:\n",
    "\n",
    "Make sure you are running this notebook with access to a GPU. If you don't have access, set the parameter gpu=False (below), but be warned that running model inference will take much longer."
   ]
  },
  {
   "cell_type": "code",
   "execution_count": 14,
   "id": "8da85b13-099a-40d3-9ca7-52b30025f522",
   "metadata": {},
   "outputs": [],
   "source": [
    "from confocalQuant.segmentation import toggle_filters, load_3D, int_to_float\n",
    "from aicsimageio import AICSImage\n",
    "from cellpose import models"
   ]
  },
  {
   "cell_type": "markdown",
   "id": "de263cbd-ee86-437d-99fd-f938929547be",
   "metadata": {},
   "source": [
    "### 1.\n",
    "First, specify which channels to load from the image listed in path. You can specify as many channels as you want. Takes .czi files as input."
   ]
  },
  {
   "cell_type": "code",
   "execution_count": 4,
   "id": "b5f614b3-dce9-4182-8ee8-d70f029d4e5b",
   "metadata": {},
   "outputs": [],
   "source": [
    "# specify channels to load\n",
    "channels = [0,1,2] #### ADD CUSTOM CHANNELS ####\n",
    "\n",
    "# specify path\n",
    "path = './data/neuronbatch10132023_mitohealth/B06-1.czi' #### ADD CUSTOM PATH ####"
   ]
  },
  {
   "cell_type": "markdown",
   "id": "34084b1f-e1f2-4898-a946-c19b2709fba7",
   "metadata": {},
   "source": [
    "### 2.\n",
    "Visualize the image by toggling through the different parameters:\n",
    "\n",
    "- *show*: select which channels you want to show. Hold shift to select multiple channels at once. A maximum of 3 channels can be selected at once. Channels will be shown as Red, Green, Blue in ascending order. To modify this, change the order in which you load the channels above. \n",
    "- *adjust*: toggle which images to adjust with sliders below\n",
    "- *zi_slider*: toggle through images on the z-axis\n",
    "- *gamma_slider*: apply gamma filter for visualization. \n",
    "- *median slider*: apply median filter to remove sensor noise\n",
    "- *background slider*: subtract background signal from all values (in %).\n",
    "- *lower_slider*: set values below this threshold to 0 (in %).\n",
    "- *upper_slider*: set values above this threshold to max value (in %).\n",
    "\n",
    "N.B. The first time you call the function toggle_filters will take longer than subsequent rounds, as some of the code gets compiled into machine code first, to substantially speed up the functions in subsequent calls."
   ]
  },
  {
   "cell_type": "code",
   "execution_count": 12,
   "id": "0576a3a7-b3a8-47ba-b3d4-a97b1f96ea5f",
   "metadata": {},
   "outputs": [
    {
     "data": {
      "application/vnd.jupyter.widget-view+json": {
       "model_id": "ee09c1deb9b44268838fb443d3ba3926",
       "version_major": 2,
       "version_minor": 0
      },
      "text/plain": [
       "VBox(children=(SelectMultiple(description='Show:', index=(1,), options=(0, 1, 2), value=(1,)), SelectMultiple(…"
      ]
     },
     "metadata": {},
     "output_type": "display_data"
    }
   ],
   "source": [
    "# load image\n",
    "img = AICSImage(path)\n",
    "out = load_3D(img, channels)\n",
    "out_float = int_to_float(out)\n",
    "\n",
    "# visualize the image\n",
    "toggle, median, background_dict, gamma_dict, upper_dict, lower_dict = toggle_filters(out_float)\n",
    "toggle"
   ]
  },
  {
   "cell_type": "markdown",
   "id": "d85d24b9-8acb-4609-830f-2dd98057b570",
   "metadata": {},
   "source": [
    "### 3.\n",
    "Choose parameters above that remove background signal (from tissue autofluorescence or contaminating cells), smooth over sensor noise if present, remove outlier signal and highlight the cells you care about segmenting. However, don't go overboard with thesholding, otherwise the model will have trouble. Only the channels you will actually be using in the model should be adjusted in this way (i.e. a cell body marker and, optionally, a nuclear marker)."
   ]
  },
  {
   "cell_type": "code",
   "execution_count": null,
   "id": "dd97f989-c1cc-4fd3-bf1a-4058f1331634",
   "metadata": {},
   "outputs": [],
   "source": [
    "### MODIFY BASED ON SETTINGS ABOVE ###\n",
    "kernel = 1 # (i.e. median filter value)\n",
    "background_dict = {0: 0, 1: 95, 2: 0.0} # (i.e. for every channel, background value)\n",
    "gamma_dict =  {0: 1, 1: 1, 2: 1} # (i.e. for every channel, the gamma value)\n",
    "lower_dict = {0: 0, 1: 0, 2: 0} # (i.e. for every channel, the lower value)\n",
    "upper_dict =  {0: 100, 1: 99.5, 2: 100} # (i.e. for every channel, the upper value)"
   ]
  },
  {
   "cell_type": "code",
   "execution_count": null,
   "id": "9b841e38-0270-4db4-b8a6-8ea9c8630f76",
   "metadata": {},
   "outputs": [],
   "source": [
    "# apply the filters\n",
    "out_med = run_med_filter(out_float, kernel = kernel)\n",
    "out_float_subtract = bgrnd_subtract(out_med, np.array(list(background_dict.values())))\n",
    "g_correct = gamma_correct_image(out_float_subtract,  gamma_dict, lower_dict, upper_dict)"
   ]
  },
  {
   "cell_type": "markdown",
   "id": "1fd127c2-49fd-44f6-9244-e3db19cb4ec8",
   "metadata": {},
   "source": [
    "### 4.\n",
    "\n",
    "Perform model segmentation. Start with the default parameters, then go back to modify them once you've viewed initial results. "
   ]
  },
  {
   "cell_type": "code",
   "execution_count": null,
   "id": "c1804759-3f52-47b0-993a-4eb600702898",
   "metadata": {},
   "outputs": [],
   "source": [
    "### MODEL PARAMS ###\n",
    "\n",
    "diameter=17 # expected cell body diameter in um\n",
    "channels=[2,0] # channels to use for segmentation. 1=red, 2=green, 3=blue; see the image above to determine what colors you care about. First position = cell body channel. Second position = nuclear channel. If you don't want to use a nuclear channel for segmentation, enter '0' in the second position.\n",
    "min_size=500 # minimum number of expected points (\"voxels\") per cell"
   ]
  },
  {
   "cell_type": "code",
   "execution_count": null,
   "id": "a50214e9-d75a-4664-b6c9-621e2aa47f2f",
   "metadata": {},
   "outputs": [],
   "source": [
    "# get anisotropy\n",
    "anisotropy = get_anisotropy(img)\n",
    "print('Anisotropy: ' + str(anisotropy))\n",
    "\n",
    "# load model\n",
    "model = models.Cellpose(gpu = True, model_type='cyto2')\n",
    "\n",
    "# run inference\n",
    "masks, flows = do_inference(g_correct, do_3D=True, model=model, anisotropy=anisotropy, diameter=diameter, channels=channels, channel_axis=3, z_axis=0, min_size=min_size, normalize = False)"
   ]
  },
  {
   "cell_type": "markdown",
   "id": "34d7b3a9-a470-48b5-88a8-96e7292a7a0c",
   "metadata": {},
   "source": [
    "### 5. \n",
    "Toggle through the segmentation results to evaluate them."
   ]
  },
  {
   "cell_type": "code",
   "execution_count": null,
   "id": "fc64c62d-423c-4373-8280-5b7819bf6819",
   "metadata": {},
   "outputs": [],
   "source": [
    "# toggle through segmentation\n",
    "extracted = extract_channels([0,1], g_correct) # enter which channels to show here (up to 3 channels)\n",
    "toggle_segmentation(float_to_int(extracted), masks) # you can optionally pass out_float, out_med, out_float_subtract, or apply different filters to out_float to help with the visualization"
   ]
  },
  {
   "cell_type": "markdown",
   "id": "f37c7ef2-7a9f-4c67-929d-17a1a87b1c8d",
   "metadata": {},
   "source": [
    "### 6. \n",
    "You may want to repeat steps 1-5 to make sure the parameters you are choosing work well for different images.\n",
    "Once you've found good parameters, modify the example.sbatch file to do inference on all your images.\n",
    "\n",
    "```bash\n",
    "sbatch example.sbatch\n",
    "```"
   ]
  },
  {
   "cell_type": "markdown",
   "id": "0c6756a8-b108-4b57-80fc-3ea8b2644bfe",
   "metadata": {},
   "source": [
    "### 7. \n",
    "\n",
    "Load, explore, and plot quantifications of the results."
   ]
  },
  {
   "cell_type": "code",
   "execution_count": null,
   "id": "676c6ec4-46e1-4c1d-9536-739df4a56787",
   "metadata": {},
   "outputs": [],
   "source": [
    "from confocalQuant.segmentation import extract_sbatch_parameters, get_czi_files\n",
    "from confocalQuant.plotting import return_results, concatenate_Y, add_metadata, exclude_files, modify_keep_files"
   ]
  },
  {
   "cell_type": "code",
   "execution_count": null,
   "id": "d8d0f64f-740e-4a39-8ebe-f29138fc66d8",
   "metadata": {},
   "outputs": [],
   "source": [
    "#### SPECIFY PATH TO SBATCH FILE ###\n",
    "path_to_sbatch_file = \n",
    "path_to_czi_files = \n",
    "nuclear_col_idx = \n",
    "soma_col_idx = \n",
    "nuclear_percentile = \n",
    "soma_percentile = \n",
    "colnames = ['DAPI', 'NeuN', 'mito', 'mito-b', 'ID']\n",
    "path_to_meta = "
   ]
  },
  {
   "cell_type": "code",
   "execution_count": null,
   "id": "b75eda56-ea42-4a83-887f-e544ac53d80a",
   "metadata": {},
   "outputs": [],
   "source": [
    "# load & concatenate the data\n",
    "mat, masks, Y, Ncells, Nzi, cells_per_job = return_results(path_to_sbatch_file)\n",
    "all_file_names = get_czi_files(path_to_czi_files)\n",
    "data = concatenate_Y(all_file_names, cells_per_job, Ncells_per_job, nuclear_col_idx, soma_col_idx, nuclear_percentile, soma_percentile, colnames)\n",
    "add_metadata(data, path_to_meta)"
   ]
  },
  {
   "cell_type": "code",
   "execution_count": null,
   "id": "e579ea9d-cc30-49ea-ae4a-4d507e0224f2",
   "metadata": {},
   "outputs": [],
   "source": [
    "# exclude files from quantification and segmentation toggling (optional)\n",
    "keep_files = exclude_files(exclude, all_file_names)\n",
    "\n",
    "# if there are none to remove, run\n",
    "keep_files = list(range(len(all_file_names)))"
   ]
  },
  {
   "cell_type": "code",
   "execution_count": null,
   "id": "7dd6914d-9ff2-4ee2-93bd-d4e2f06a375b",
   "metadata": {},
   "outputs": [],
   "source": [
    "# toggle through all segmentations"
   ]
  },
  {
   "cell_type": "code",
   "execution_count": null,
   "id": "9db09ff0-0893-4591-a90e-316647bc1704",
   "metadata": {},
   "outputs": [],
   "source": [
    "#### SPECIFY IDS TO REMOVE ####\n",
    "ids_to_remove = []"
   ]
  },
  {
   "cell_type": "code",
   "execution_count": null,
   "id": "7ec5dc79-4933-4087-9308-fdef510f2f70",
   "metadata": {},
   "outputs": [],
   "source": [
    "# remove IDs from keep_files if you think it's necessary based on poor segmentation or image quality (otherwise re-run with differnet parameters)\n",
    "keep_files = modify_keep_files(keep_files, ids_to_remove)"
   ]
  },
  {
   "cell_type": "code",
   "execution_count": null,
   "id": "880ec5fc-1bda-4f87-bd8f-cd5539bddf16",
   "metadata": {},
   "outputs": [],
   "source": [
    "# modify data to only include the keep_files IDs\n",
    "data = data[[x in keep_files for x in data['ID']]]"
   ]
  },
  {
   "cell_type": "code",
   "execution_count": null,
   "id": "401debf9-953e-4d39-b588-211f54b3fb9b",
   "metadata": {},
   "outputs": [],
   "source": [
    "# plot effects\n",
    "plot_effect(data, 'condition', 'G2 vehicle', 'G2 CDP-choline', 'mito-b')"
   ]
  },
  {
   "cell_type": "code",
   "execution_count": null,
   "id": "77c3cf99-15a9-4132-b10e-c3c28bb5fc2c",
   "metadata": {},
   "outputs": [],
   "source": [
    "# plot and save representative image panels"
   ]
  }
 ],
 "metadata": {
  "kernelspec": {
   "display_name": "Python 3 (ipykernel)",
   "language": "python",
   "name": "python3"
  },
  "language_info": {
   "codemirror_mode": {
    "name": "ipython",
    "version": 3
   },
   "file_extension": ".py",
   "mimetype": "text/x-python",
   "name": "python",
   "nbconvert_exporter": "python",
   "pygments_lexer": "ipython3",
   "version": "3.8.13"
  }
 },
 "nbformat": 4,
 "nbformat_minor": 5
}
