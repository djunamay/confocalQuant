{
 "cells": [
  {
   "cell_type": "code",
   "execution_count": 2,
   "id": "87d8ffdd-5a9f-4ed7-8ba2-5fd8976176f1",
   "metadata": {},
   "outputs": [],
   "source": [
    "import sys\n",
    "import numpy as np\n",
    "import pandas as pd\n",
    "import matplotlib.pyplot as plt\n",
    "import seaborn as sns\n",
    "import numba as nbj\n",
    "\n",
    "from aicsimageio import AICSImage\n",
    "from tqdm import tqdm \n",
    "from statannotations.Annotator import Annotator\n",
    "\n",
    "path_to_quant = '//home/gridsan/djuna/homer/github/confocalQuant/'\n",
    "sys.path.append(path_to_quant)\n",
    "\n",
    "from confocalQuant.qc import return_channel_moments_per_im, get_day_and_time, get_metadata, return_non_unique_indices\n",
    "from confocalQuant.segmentation import impose_segmentations, get_czi_files, int_to_float\n",
    "from confocalQuant.data_handling import print_failed_jobs, get_meta_vectors, return_results, load_im_from_memmap, load_im_from_memmap_ravel\n",
    "from confocalQuant.stats import compute_per_cell_stats\n",
    "from confocalQuant.plotting import plot_boxplot_by_treatment, plot_boxplot_by_line\n",
    "from confocalQuant.widgets import toggle_filters, ImageBrowser\n",
    "\n",
    "def plot_boxplot_by_treatment(value, line, df, colors, colors2):\n",
    "    \n",
    "    avg_lipidspot = df.groupby(['line', 'treatment', 'well'])[value].mean().reset_index(name='av')\n",
    "\n",
    "    d = avg_lipidspot[avg_lipidspot['line']==line]\n",
    "\n",
    "    ax = sns.boxplot(data = d, x = 'treatment', showfliers=False, y = 'av', dodge = True, order = ['vehicle', 'CDP-choline'], palette = colors, width=.5, boxprops=dict(alpha=1), medianprops=dict(color='black', alpha=1), whiskerprops=dict(color='black', alpha=1), capprops=dict(color = 'black', alpha=1))\n",
    "    sns.stripplot(data=d, x='treatment', y='av', palette = colors2, dodge=True, jitter=True, alpha=1,  order = ['vehicle', 'CDP-choline'])\n",
    "\n",
    "    pairs = [((\"vehicle\"), (\"CDP-choline\"))]  # Define pairs to compare\n",
    "    annotator = Annotator(ax, pairs, data=d, x='treatment', y='av', order = ['vehicle', 'CDP-choline'])\n",
    "    annotator.configure(test='t-test_ind', text_format='full', loc='outside', verbose=2, show_test_name=False)\n",
    "    \n",
    "    annotator.apply_and_annotate()\n",
    "    \n",
    "    plt.legend(bbox_to_anchor=(1.04, 1), loc=\"upper left\")\n",
    "    plt.xticks(rotation=45)\n",
    "    plt.ylabel(value)\n",
    "    plt.xlabel('')\n",
    "    \n",
    "def plot_treatments(df, x, line, colors, lognormal, binwidth,lab_height, t, grp='well', size=(20,7)):\n",
    "    sns.set(rc={'figure.figsize':(5,3)})\n",
    "    sns.set_style(\"whitegrid\")\n",
    "    df_temp = df[df['line']==line]\n",
    "    \n",
    "    if lognormal:\n",
    "        df_temp[x] = np.log(df_temp[x])\n",
    "    \n",
    "    f, ax = plt.subplots(2,1, sharex=True, gridspec_kw={\"height_ratios\": (.5,.4)})\n",
    "\n",
    "    index = (df_temp['treatment']=='vehicle') | (df_temp['treatment']==t)\n",
    "        \n",
    "    sns.histplot(data=df_temp[index], x=x, ax=ax[0], hue='treatment', binwidth=binwidth, element=\"step\", common_norm=False, stat='density', palette = colors)\n",
    "                \n",
    "    sns.boxplot(data=df_temp[index], x=x, y='treatment',orient=\"h\", ax=ax[1], width=.5, dodge=True, palette = colors, order = ['vehicle','CDP-choline'])#, order =(order))#, palette = colors)\n",
    "    ax[1].axes.get_yaxis().set_visible(False)\n",
    "\n",
    "    \n",
    "def plot_lines(df, x, treatment, colors, lognormal, binwidth, grp='well'):\n",
    "    sns.set(rc={'figure.figsize':(6,6)})\n",
    "    sns.set_style(\"whitegrid\")\n",
    "    df_temp = df[df['treatment']==treatment]\n",
    "\n",
    "    if lognormal:\n",
    "        df_temp[x] = np.log(df_temp[x])\n",
    "        \n",
    "    f, ax = plt.subplots(3, sharex=True, gridspec_kw={\"height_ratios\": (1,1,.6)})\n",
    "\n",
    "    index = df_temp['line']!='G2'\n",
    "\n",
    "    \n",
    "    sns.histplot(data=df_temp[index], x=x, ax=ax[0], hue='line', binwidth=binwidth, element=\"step\", common_norm=False, stat='density', palette = colors)    \n",
    "\n",
    "    index = df_temp['line']!='Y622'\n",
    "  \n",
    "    sns.histplot(data=df_temp[index], x=x, ax=ax[1], hue='line', binwidth=binwidth, element=\"step\", common_norm=False, stat='density', palette = colors)\n",
    "    \n",
    "    sns.boxplot(data=df_temp, x=x, y='line',orient=\"h\", ax=ax[2], width=.5, dodge=True, palette = colors)#, order =(order))#, palette = colors)\n",
    "    \n",
    "    for i in range(3):\n",
    "        ax[i].legend(loc='upper left', bbox_to_anchor=(1, 1))\n",
    "    "
   ]
  },
  {
   "cell_type": "markdown",
   "id": "14467686-bbfd-4c1d-8741-eff2e02eb997",
   "metadata": {},
   "source": [
    "#### assess percent clipping (within cell volume) for each batch"
   ]
  },
  {
   "cell_type": "code",
   "execution_count": 6,
   "id": "4e7ab4f3-0f91-46e6-b2e5-5718eea8ab07",
   "metadata": {
    "collapsed": true,
    "jupyter": {
     "outputs_hidden": true
    },
    "tags": []
   },
   "outputs": [
    {
     "name": "stderr",
     "output_type": "stream",
     "text": [
      "100%|██████████| 110/110 [04:53<00:00,  2.67s/it]\n",
      "100%|██████████| 75/75 [04:55<00:00,  3.94s/it]\n"
     ]
    },
    {
     "ename": "KeyError",
     "evalue": "'B03'",
     "output_type": "error",
     "traceback": [
      "\u001b[0;31m---------------------------------------------------------------------------\u001b[0m",
      "\u001b[0;31mKeyError\u001b[0m                                  Traceback (most recent call last)",
      "Input \u001b[0;32mIn [6]\u001b[0m, in \u001b[0;36m<cell line: 11>\u001b[0;34m()\u001b[0m\n\u001b[1;32m     14\u001b[0m in_parent \u001b[38;5;241m=\u001b[39m \u001b[38;5;124m'\u001b[39m\u001b[38;5;124m../../new_data/\u001b[39m\u001b[38;5;124m'\u001b[39m\u001b[38;5;241m+\u001b[39mname\u001b[38;5;241m.\u001b[39msplit(\u001b[38;5;124m'\u001b[39m\u001b[38;5;124m_out/\u001b[39m\u001b[38;5;124m'\u001b[39m)[\u001b[38;5;241m0\u001b[39m]\u001b[38;5;241m.\u001b[39msplit(\u001b[38;5;124m'\u001b[39m\u001b[38;5;124mouts/\u001b[39m\u001b[38;5;124m'\u001b[39m)[\u001b[38;5;241m1\u001b[39m]\u001b[38;5;241m+\u001b[39m\u001b[38;5;124m'\u001b[39m\u001b[38;5;124m/\u001b[39m\u001b[38;5;124m'\u001b[39m\n\u001b[1;32m     16\u001b[0m files \u001b[38;5;241m=\u001b[39m get_czi_files(in_parent)\n\u001b[0;32m---> 17\u001b[0m lines, treat \u001b[38;5;241m=\u001b[39m \u001b[43mget_meta_vectors\u001b[49m\u001b[43m(\u001b[49m\u001b[43min_parent\u001b[49m\u001b[43m,\u001b[49m\u001b[43m \u001b[49m\u001b[43mfiles\u001b[49m\u001b[43m,\u001b[49m\u001b[43m \u001b[49m\u001b[43msplit\u001b[49m\u001b[43m[\u001b[49m\u001b[43mx\u001b[49m\u001b[43m]\u001b[49m\u001b[43m,\u001b[49m\u001b[43m \u001b[49m\u001b[43msplit\u001b[49m\u001b[43m[\u001b[49m\u001b[43mx\u001b[49m\u001b[43m]\u001b[49m\u001b[43m)\u001b[49m\n\u001b[1;32m     18\u001b[0m all_mat, all_masks, Nzi_per_job, cells_per_job, zi_per_job, probs, randID_per_job \u001b[38;5;241m=\u001b[39m return_results(out_parent\u001b[38;5;241m+\u001b[39m\u001b[38;5;124m'\u001b[39m\u001b[38;5;124mout.sbatch\u001b[39m\u001b[38;5;124m'\u001b[39m, \u001b[38;5;124m'\u001b[39m\u001b[38;5;124m../.\u001b[39m\u001b[38;5;124m'\u001b[39m)\n\u001b[1;32m     20\u001b[0m percent_clipped \u001b[38;5;241m=\u001b[39m []\n",
      "File \u001b[0;32m//home/gridsan/djuna/homer/github/confocalQuant/confocalQuant/data_handling.py:46\u001b[0m, in \u001b[0;36mget_meta_vectors\u001b[0;34m(in_parent, files, spacer, spacer2)\u001b[0m\n\u001b[1;32m     43\u001b[0m dictionary \u001b[38;5;241m=\u001b[39m \u001b[38;5;28mdict\u001b[39m(\u001b[38;5;28mzip\u001b[39m(meta[\u001b[38;5;124m'\u001b[39m\u001b[38;5;124mwell\u001b[39m\u001b[38;5;124m'\u001b[39m], meta[\u001b[38;5;124m'\u001b[39m\u001b[38;5;124mline\u001b[39m\u001b[38;5;124m'\u001b[39m]))\n\u001b[1;32m     44\u001b[0m dictionary2 \u001b[38;5;241m=\u001b[39m \u001b[38;5;28mdict\u001b[39m(\u001b[38;5;28mzip\u001b[39m(meta[\u001b[38;5;124m'\u001b[39m\u001b[38;5;124mwell\u001b[39m\u001b[38;5;124m'\u001b[39m], meta[\u001b[38;5;124m'\u001b[39m\u001b[38;5;124mtreatment\u001b[39m\u001b[38;5;124m'\u001b[39m]))\n\u001b[0;32m---> 46\u001b[0m lines \u001b[38;5;241m=\u001b[39m np\u001b[38;5;241m.\u001b[39marray([dictionary[x\u001b[38;5;241m.\u001b[39msplit(spacer2)[\u001b[38;5;241m0\u001b[39m]] \u001b[38;5;28;01mfor\u001b[39;00m x \u001b[38;5;129;01min\u001b[39;00m files])\n\u001b[1;32m     47\u001b[0m treat \u001b[38;5;241m=\u001b[39m np\u001b[38;5;241m.\u001b[39marray([dictionary2[x\u001b[38;5;241m.\u001b[39msplit(spacer2)[\u001b[38;5;241m0\u001b[39m]] \u001b[38;5;28;01mfor\u001b[39;00m x \u001b[38;5;129;01min\u001b[39;00m files])\n\u001b[1;32m     48\u001b[0m \u001b[38;5;28;01mreturn\u001b[39;00m lines, treat\n",
      "File \u001b[0;32m//home/gridsan/djuna/homer/github/confocalQuant/confocalQuant/data_handling.py:46\u001b[0m, in \u001b[0;36m<listcomp>\u001b[0;34m(.0)\u001b[0m\n\u001b[1;32m     43\u001b[0m dictionary \u001b[38;5;241m=\u001b[39m \u001b[38;5;28mdict\u001b[39m(\u001b[38;5;28mzip\u001b[39m(meta[\u001b[38;5;124m'\u001b[39m\u001b[38;5;124mwell\u001b[39m\u001b[38;5;124m'\u001b[39m], meta[\u001b[38;5;124m'\u001b[39m\u001b[38;5;124mline\u001b[39m\u001b[38;5;124m'\u001b[39m]))\n\u001b[1;32m     44\u001b[0m dictionary2 \u001b[38;5;241m=\u001b[39m \u001b[38;5;28mdict\u001b[39m(\u001b[38;5;28mzip\u001b[39m(meta[\u001b[38;5;124m'\u001b[39m\u001b[38;5;124mwell\u001b[39m\u001b[38;5;124m'\u001b[39m], meta[\u001b[38;5;124m'\u001b[39m\u001b[38;5;124mtreatment\u001b[39m\u001b[38;5;124m'\u001b[39m]))\n\u001b[0;32m---> 46\u001b[0m lines \u001b[38;5;241m=\u001b[39m np\u001b[38;5;241m.\u001b[39marray([\u001b[43mdictionary\u001b[49m\u001b[43m[\u001b[49m\u001b[43mx\u001b[49m\u001b[38;5;241;43m.\u001b[39;49m\u001b[43msplit\u001b[49m\u001b[43m(\u001b[49m\u001b[43mspacer2\u001b[49m\u001b[43m)\u001b[49m\u001b[43m[\u001b[49m\u001b[38;5;241;43m0\u001b[39;49m\u001b[43m]\u001b[49m\u001b[43m]\u001b[49m \u001b[38;5;28;01mfor\u001b[39;00m x \u001b[38;5;129;01min\u001b[39;00m files])\n\u001b[1;32m     47\u001b[0m treat \u001b[38;5;241m=\u001b[39m np\u001b[38;5;241m.\u001b[39marray([dictionary2[x\u001b[38;5;241m.\u001b[39msplit(spacer2)[\u001b[38;5;241m0\u001b[39m]] \u001b[38;5;28;01mfor\u001b[39;00m x \u001b[38;5;129;01min\u001b[39;00m files])\n\u001b[1;32m     48\u001b[0m \u001b[38;5;28;01mreturn\u001b[39;00m lines, treat\n",
      "\u001b[0;31mKeyError\u001b[0m: 'B03'"
     ]
    }
   ],
   "source": [
    "# sanity checks - how high is the clipping for each batch?\n",
    "paths = ['../../new_outs/iNbatch01172024_CTP1b_Lipidspot_out//',\n",
    "         '../../new_outs/iNbatch01312024_PLIN2_Lipidspot_out/', \n",
    "         '../../new_outs/iNbatch02212024_PLIN2_Lipidspot_out/']\n",
    "\n",
    "split1 = ['_','-', '-']\n",
    "split2 = ['_','-', '_']\n",
    "\n",
    "all_files = []\n",
    "all_clipped = []\n",
    "\n",
    "for x, name in enumerate(paths):\n",
    "    \n",
    "    out_parent = name\n",
    "    in_parent = '../../new_data/'+name.split('_out/')[0].split('outs/')[1]+'/'\n",
    "\n",
    "    files = get_czi_files(in_parent)\n",
    "    lines, treat = get_meta_vectors(in_parent, files, split1[x], split2[x])\n",
    "    all_mat, all_masks, Nzi_per_job, cells_per_job, zi_per_job, probs, randID_per_job = return_results(out_parent+'out.sbatch', '../.')\n",
    "\n",
    "    percent_clipped = []\n",
    "    nvoxels = []\n",
    "    line = []\n",
    "    t = []\n",
    "    vals = []\n",
    "\n",
    "    for i in tqdm(range(len(files))):\n",
    "        x, y = load_im_from_memmap(i,  zi_per_job, Nzi_per_job, probs, all_masks, all_mat)\n",
    "        f = y[:,:,:,-1].ravel() # channel of interest\n",
    "        temp = f[x.ravel()>0] # only cells\n",
    "        L = len(temp)\n",
    "        nvoxels.append(L)\n",
    "        line.append(lines[i])\n",
    "        t.append(treat[i])\n",
    "        vals.append(temp)\n",
    "        percent_clipped.append((np.sum(temp==1)/L)*100) # percent clipped\n",
    "        \n",
    "    all_files.append(files)\n",
    "    all_clipped.append(percent_clipped)"
   ]
  },
  {
   "cell_type": "code",
   "execution_count": 22,
   "id": "5a44da1f-41e6-410e-b060-31cf5103872d",
   "metadata": {},
   "outputs": [
    {
     "data": {
      "image/png": "[encoded data removed]",
      "text/plain": [
       "<Figure size 432x288 with 1 Axes>"
      ]
     },
     "metadata": {
      "needs_background": "light"
     },
     "output_type": "display_data"
    }
   ],
   "source": [
    "plt.hist(all_clipped[0], label='0')\n",
    "plt.hist(all_clipped[1], alpha=.5, label='1')\n",
    "plt.hist(all_clipped[2], alpha=0.5, label='2')\n",
    "plt.legend()\n",
    "\n",
    "None"
   ]
  },
  {
   "cell_type": "code",
   "execution_count": 26,
   "id": "5059668e-6bc2-4f02-bd33-5f896c72877e",
   "metadata": {},
   "outputs": [
    {
     "data": {
      "text/plain": [
       "0.23411560519166918"
      ]
     },
     "execution_count": 26,
     "metadata": {},
     "output_type": "execute_result"
    }
   ],
   "source": [
    "np.max(all_clipped[2])"
   ]
  },
  {
   "cell_type": "markdown",
   "id": "9d53b65e-2f0e-47e5-9e3c-0b7469981abb",
   "metadata": {},
   "source": [
    "#### mean-center data, sample cells from each group of interest (here: treatment) uniformly across batches"
   ]
  },
  {
   "cell_type": "code",
   "execution_count": 5,
   "id": "0031ea4c-aae4-468e-88d5-aa6d15cdb4b6",
   "metadata": {},
   "outputs": [],
   "source": [
    "# scale and combine data\n",
    "paths = ['../../new_outs/iNbatch01172024_CTP1b_Lipidspot_out//',\n",
    "         '../../new_outs/iNbatch01312024_PLIN2_Lipidspot_out/', \n",
    "         '../../new_outs/iNbatch02212024_PLIN2_Lipidspot_out/']\n",
    "\n",
    "o = []\n",
    "x=0\n",
    "for i in paths:\n",
    "    out_parent = i\n",
    "    df = pd.read_csv(out_parent+'quant_continuous.csv')\n",
    "    \n",
    "    df_sele = df[((df['treatment']=='vehicle') | (df['treatment']=='CDP-choline')) & (df['line']=='Y622')]\n",
    "\n",
    "    # Find the minimum number of rows per 'line'\n",
    "    min_rows_per_line = df_sele.groupby('treatment').size().min()\n",
    "\n",
    "    # Sample uniformly without replacement\n",
    "    sampled_df = df_sele.groupby('treatment').apply(lambda x: x.sample(n=min_rows_per_line, random_state=1)).reset_index(drop=True)\n",
    "\n",
    "    sampled_df['scaled']  = (sampled_df['lipidspot'] - np.mean(sampled_df['lipidspot']))/np.std(sampled_df['lipidspot'])\n",
    "    \n",
    "    sampled_df['batch'] = str(x)\n",
    "    \n",
    "    o.append(sampled_df)\n",
    "    x+=1"
   ]
  },
  {
   "cell_type": "code",
   "execution_count": 15,
   "id": "5ea06c47-15a2-4eb8-8a66-79d626a8a796",
   "metadata": {},
   "outputs": [
    {
     "data": {
      "image/png": "[encoded data removed]",
      "text/plain": [
       "<Figure size 432x288 with 1 Axes>"
      ]
     },
     "metadata": {
      "needs_background": "light"
     },
     "output_type": "display_data"
    }
   ],
   "source": [
    "plt.hist(o[2]['scaled'], 100)\n",
    "plt.hist(o[1]['scaled'], 100, alpha=.5)\n",
    "plt.hist(o[0]['scaled'], 100, alpha=.5)\n",
    "\n",
    "None\n"
   ]
  },
  {
   "cell_type": "markdown",
   "id": "f3e58439-9f90-4fca-ba45-5d1a45e259c7",
   "metadata": {},
   "source": [
    "#### concatenate data across batches"
   ]
  },
  {
   "cell_type": "code",
   "execution_count": 6,
   "id": "ad7640a3-9caa-4f3d-9bdd-d4607a2a3d9c",
   "metadata": {},
   "outputs": [],
   "source": [
    "# concat data\n",
    "\n",
    "data = pd.concat(o)#[1:])\n",
    "\n",
    "def split_string(s):\n",
    "    if '-' in s:\n",
    "        return s.split('-')[0]\n",
    "    elif '_' in s:\n",
    "        return s.split('_')[0]\n",
    "    else:\n",
    "        return s\n",
    "    \n",
    "data['well'] = [split_string(i) for i in data['file']]\n",
    "data['well'] = data['batch'].str.cat(data['well'], sep=' ')\n",
    "\n",
    "data.index = range(data.shape[0])"
   ]
  },
  {
   "cell_type": "markdown",
   "id": "de0f5e04-a074-4998-ade1-3b6ac7ea9c5b",
   "metadata": {},
   "source": [
    "#### plot concatenated data across batches"
   ]
  },
  {
   "cell_type": "code",
   "execution_count": 12,
   "id": "03726b9a-d3a0-46a1-bec0-5a3cc9caec81",
   "metadata": {},
   "outputs": [
    {
     "name": "stderr",
     "output_type": "stream",
     "text": [
      "No artists with labels found to put in legend.  Note that artists whose label start with an underscore are ignored when legend() is called with no argument.\n"
     ]
    },
    {
     "name": "stdout",
     "output_type": "stream",
     "text": [
      "vehicle vs. CDP-choline: t-test independent samples, P_val:9.152e-03 t=2.751e+00\n"
     ]
    },
    {
     "data": {
      "text/plain": [
       "<Figure size 180x360 with 0 Axes>"
      ]
     },
     "metadata": {},
     "output_type": "display_data"
    },
    {
     "data": {
      "image/png": "[encoded data removed]",
      "text/plain": [
       "<Figure size 90x360 with 1 Axes>"
      ]
     },
     "metadata": {
      "needs_background": "light"
     },
     "output_type": "display_data"
    }
   ],
   "source": [
    "plt.figure(figsize=(2.5,5))\n",
    "\n",
    "\n",
    "plt.figure(figsize=(1.25,5))\n",
    "colors = dict(zip(np.unique(data['treatment']), [ 'purple', 'orange']))\n",
    "colors2 = dict(zip(np.unique(data['treatment']), ['purple', 'orange']))\n",
    "\n",
    "plot_boxplot_by_treatment('scaled', 'Y622', data, colors, colors2)\n",
    "plt.rcParams.update({'font.size': 14})\n",
    "plt.xticks(ticks=[0, 1], labels=['-','+'], rotation = 180)\n",
    "plt.ylabel('LipidSpot fluorescent intensity, z-scaled')\n",
    "plt.savefig('../../out_plots/lipidspot_new_cdp_choline.pdf')\n",
    "\n"
   ]
  },
  {
   "cell_type": "markdown",
   "id": "e21fd45a-3a6f-4076-8313-440df71687dc",
   "metadata": {},
   "source": [
    "#### plot per-cell distributions per batch"
   ]
  },
  {
   "cell_type": "code",
   "execution_count": 36,
   "id": "33a2a9b8-3923-4d0b-b5f6-2211573f6c18",
   "metadata": {},
   "outputs": [
    {
     "name": "stderr",
     "output_type": "stream",
     "text": [
      "/home/gridsan/djuna/.local/lib/python3.8/site-packages/pandas/core/arraylike.py:402: RuntimeWarning: invalid value encountered in log\n",
      "  result = getattr(ufunc, method)(*inputs, **kwargs)\n"
     ]
    },
    {
     "data": {
      "image/png": "[encoded data removed]",
      "text/plain": [
       "<Figure size 360x216 with 2 Axes>"
      ]
     },
     "metadata": {},
     "output_type": "display_data"
    }
   ],
   "source": [
    "# plot combined\n",
    "\n",
    "colors = dict(zip(['vehicle', 'CDP-choline'], ['orange', 'purple']))\n",
    "\n",
    "plot_treatments(data, 'scaled', 'Y622', colors, True, 0.05, 1, t='CDP-choline', grp='well', size=(5,7))\n",
    "#plt.xlim(-5,2.5)\n",
    "#plt.savefig('../out_plots/mitohealth_treat_all.pdf')"
   ]
  },
  {
   "cell_type": "code",
   "execution_count": 53,
   "id": "9b53094b-408f-4c1a-a7c8-2879e0ae7664",
   "metadata": {},
   "outputs": [
    {
     "name": "stderr",
     "output_type": "stream",
     "text": [
      "/home/gridsan/djuna/.local/lib/python3.8/site-packages/pandas/core/arraylike.py:402: RuntimeWarning: invalid value encountered in log\n",
      "  result = getattr(ufunc, method)(*inputs, **kwargs)\n"
     ]
    },
    {
     "data": {
      "image/png": "[encoded data removed]",
      "text/plain": [
       "<Figure size 360x216 with 2 Axes>"
      ]
     },
     "metadata": {},
     "output_type": "display_data"
    }
   ],
   "source": [
    "# plot combined\n",
    "\n",
    "colors = dict(zip(['vehicle', 'CDP-choline'], ['orange', 'purple']))\n",
    "\n",
    "plot_treatments(data[data['batch']=='0'], 'scaled', 'Y622', colors, True, 0.08, 1, t='CDP-choline', grp='well', size=(5,7))\n",
    "plt.savefig('../out_plots/ls_treat_batch0.pdf')"
   ]
  },
  {
   "cell_type": "code",
   "execution_count": 54,
   "id": "ba0cf1ac-63fa-49e3-8c87-b91fcb2a8915",
   "metadata": {},
   "outputs": [
    {
     "name": "stderr",
     "output_type": "stream",
     "text": [
      "/home/gridsan/djuna/.local/lib/python3.8/site-packages/pandas/core/arraylike.py:402: RuntimeWarning: invalid value encountered in log\n",
      "  result = getattr(ufunc, method)(*inputs, **kwargs)\n"
     ]
    },
    {
     "data": {
      "image/png": "[encoded data removed]",
      "text/plain": [
       "<Figure size 360x216 with 2 Axes>"
      ]
     },
     "metadata": {},
     "output_type": "display_data"
    }
   ],
   "source": [
    "# plot combined\n",
    "\n",
    "colors = dict(zip(['vehicle', 'CDP-choline'], ['orange', 'purple']))\n",
    "\n",
    "plot_treatments(data[data['batch']=='1'], 'scaled', 'Y622', colors, True, 0.08, 1, t='CDP-choline', grp='well', size=(5,7))\n",
    "plt.savefig('../out_plots/ls_treat_batch1.pdf')"
   ]
  },
  {
   "cell_type": "code",
   "execution_count": 56,
   "id": "f08b092d-7ec7-4f1b-8387-e2b6c72559b6",
   "metadata": {},
   "outputs": [
    {
     "name": "stderr",
     "output_type": "stream",
     "text": [
      "/home/gridsan/djuna/.local/lib/python3.8/site-packages/pandas/core/arraylike.py:402: RuntimeWarning: invalid value encountered in log\n",
      "  result = getattr(ufunc, method)(*inputs, **kwargs)\n"
     ]
    },
    {
     "data": {
      "image/png": "[encoded data removed]",
      "text/plain": [
       "<Figure size 360x216 with 2 Axes>"
      ]
     },
     "metadata": {},
     "output_type": "display_data"
    }
   ],
   "source": [
    "# plot combined\n",
    "\n",
    "colors = dict(zip(['vehicle', 'CDP-choline'], ['orange', 'purple']))\n",
    "\n",
    "plot_treatments(data[data['batch']=='2'], 'scaled', 'Y622', colors, True, 0.08, 1, t='CDP-choline', grp='well', size=(5,7))\n",
    "#plt.xlim(-2,5)\n",
    "plt.savefig('../out_plots/ls_treat_batch2.pdf')"
   ]
  },
  {
   "cell_type": "markdown",
   "id": "03e087cd-1bcb-457d-a2fb-921d39dbbbe3",
   "metadata": {},
   "source": [
    "#### Do stats"
   ]
  },
  {
   "cell_type": "code",
   "execution_count": 14,
   "id": "b1be4f40-faff-437d-ad14-290b9e9ff431",
   "metadata": {},
   "outputs": [
    {
     "name": "stdout",
     "output_type": "stream",
     "text": [
      "E3 vs Y622 scaled across two batches:\n",
      "             Mixed Linear Model Regression Results\n",
      "===============================================================\n",
      "Model:              MixedLM   Dependent Variable:   scaled     \n",
      "No. Observations:   10838     Method:               REML       \n",
      "No. Groups:         39        Scale:                0.9212     \n",
      "Min. group size:    102       Log-Likelihood:       -14997.5054\n",
      "Max. group size:    531       Converged:            Yes        \n",
      "Mean group size:    277.9                                      \n",
      "---------------------------------------------------------------\n",
      "                     Coef.  Std.Err.   z    P>|z| [0.025 0.975]\n",
      "---------------------------------------------------------------\n",
      "Intercept            -0.157    0.063 -2.477 0.013 -0.280 -0.033\n",
      "treatment[T.vehicle]  0.255    0.093  2.751 0.006  0.073  0.437\n",
      "Group Var             0.080    0.020                           \n",
      "===============================================================\n",
      "\n"
     ]
    }
   ],
   "source": [
    "# do stats\n",
    "from confocalQuant.stats import fit_mixed_model\n",
    "\n",
    "print('E3 vs Y622 scaled across two batches:')\n",
    "print(fit_mixed_model(data, \"scaled ~ treatment\", 'well'))\n"
   ]
  },
  {
   "cell_type": "code",
   "execution_count": 29,
   "id": "f0e73a72-70a2-4b11-9598-653b307eadf0",
   "metadata": {},
   "outputs": [
    {
     "name": "stdout",
     "output_type": "stream",
     "text": [
      "E3 vs Y622 scaled across two batches:\n",
      "             Mixed Linear Model Regression Results\n",
      "===============================================================\n",
      "Model:               MixedLM   Dependent Variable:   scaled    \n",
      "No. Observations:    2040      Method:               REML      \n",
      "No. Groups:          11        Scale:                0.8890    \n",
      "Min. group size:     102       Log-Likelihood:       -2789.8699\n",
      "Max. group size:     318       Converged:            Yes       \n",
      "Mean group size:     185.5                                     \n",
      "---------------------------------------------------------------\n",
      "                     Coef.  Std.Err.   z    P>|z| [0.025 0.975]\n",
      "---------------------------------------------------------------\n",
      "Intercept            -0.284    0.094 -3.014 0.003 -0.469 -0.099\n",
      "treatment[T.vehicle]  0.483    0.155  3.123 0.002  0.180  0.786\n",
      "Group Var             0.056    0.031                           \n",
      "===============================================================\n",
      "\n"
     ]
    }
   ],
   "source": [
    "# do stats\n",
    "from confocalQuant.stats import fit_mixed_model\n",
    "\n",
    "print('E3 vs Y622 scaled across two batches:')\n",
    "print(fit_mixed_model(data[data['batch']=='1'], \"scaled ~ treatment\", 'well'))\n"
   ]
  },
  {
   "cell_type": "code",
   "execution_count": 30,
   "id": "052908f7-39d4-4f54-8e8d-3ddf5b7c6fb0",
   "metadata": {},
   "outputs": [
    {
     "name": "stdout",
     "output_type": "stream",
     "text": [
      "E3 vs Y622 scaled across two batches:\n",
      "             Mixed Linear Model Regression Results\n",
      "===============================================================\n",
      "Model:               MixedLM   Dependent Variable:   scaled    \n",
      "No. Observations:    3362      Method:               REML      \n",
      "No. Groups:          12        Scale:                0.8965    \n",
      "Min. group size:     172       Log-Likelihood:       -4609.8109\n",
      "Max. group size:     457       Converged:            Yes       \n",
      "Mean group size:     280.2                                     \n",
      "---------------------------------------------------------------\n",
      "                     Coef.  Std.Err.   z    P>|z| [0.025 0.975]\n",
      "---------------------------------------------------------------\n",
      "Intercept            -0.139    0.148 -0.938 0.348 -0.430  0.152\n",
      "treatment[T.vehicle]  0.315    0.210  1.501 0.133 -0.096  0.726\n",
      "Group Var             0.129    0.063                           \n",
      "===============================================================\n",
      "\n"
     ]
    }
   ],
   "source": [
    "# do stats\n",
    "from confocalQuant.stats import fit_mixed_model\n",
    "\n",
    "print('E3 vs Y622 scaled across two batches:')\n",
    "print(fit_mixed_model(data[data['batch']=='2'], \"scaled ~ treatment\", 'well'))\n"
   ]
  },
  {
   "cell_type": "code",
   "execution_count": 31,
   "id": "cf148f3f-43d2-44fb-ab55-99f5f57be9a9",
   "metadata": {},
   "outputs": [
    {
     "name": "stdout",
     "output_type": "stream",
     "text": [
      "E3 vs Y622 scaled across two batches:\n",
      "             Mixed Linear Model Regression Results\n",
      "===============================================================\n",
      "Model:               MixedLM   Dependent Variable:   scaled    \n",
      "No. Observations:    2040      Method:               REML      \n",
      "No. Groups:          11        Scale:                0.8890    \n",
      "Min. group size:     102       Log-Likelihood:       -2789.8699\n",
      "Max. group size:     318       Converged:            Yes       \n",
      "Mean group size:     185.5                                     \n",
      "---------------------------------------------------------------\n",
      "                     Coef.  Std.Err.   z    P>|z| [0.025 0.975]\n",
      "---------------------------------------------------------------\n",
      "Intercept            -0.284    0.094 -3.014 0.003 -0.469 -0.099\n",
      "treatment[T.vehicle]  0.483    0.155  3.123 0.002  0.180  0.786\n",
      "Group Var             0.056    0.031                           \n",
      "===============================================================\n",
      "\n"
     ]
    }
   ],
   "source": [
    "# do stats\n",
    "from confocalQuant.stats import fit_mixed_model\n",
    "\n",
    "print('E3 vs Y622 scaled across two batches:')\n",
    "print(fit_mixed_model(data[data['batch']=='1'], \"scaled ~ treatment\", 'well'))\n"
   ]
  }
 ],
 "metadata": {
  "kernelspec": {
   "display_name": "Python 3 (ipykernel)",
   "language": "python",
   "name": "python3"
  },
  "language_info": {
   "codemirror_mode": {
    "name": "ipython",
    "version": 3
   },
   "file_extension": ".py",
   "mimetype": "text/x-python",
   "name": "python",
   "nbconvert_exporter": "python",
   "pygments_lexer": "ipython3",
   "version": "3.8.13"
  }
 },
 "nbformat": 4,
 "nbformat_minor": 5
}
