{
 "cells": [
  {
   "cell_type": "code",
   "execution_count": 37,
   "id": "87d8ffdd-5a9f-4ed7-8ba2-5fd8976176f1",
   "metadata": {},
   "outputs": [],
   "source": [
    "# load packages \n",
    "\n",
    "import sys\n",
    "import numpy as np\n",
    "import pandas as pd\n",
    "import matplotlib.pyplot as plt\n",
    "import seaborn as sns\n",
    "import numba as nbj\n",
    "\n",
    "from aicsimageio import AICSImage\n",
    "from tqdm import tqdm \n",
    "from statannotations.Annotator import Annotator\n",
    "\n",
    "path_to_quant = '//home/gridsan/djuna/homer/github/confocalQuant/'\n",
    "sys.path.append(path_to_quant)\n",
    "\n",
    "from confocalQuant.qc import return_channel_moments_per_im, get_day_and_time, get_metadata, return_non_unique_indices\n",
    "from confocalQuant.segmentation import impose_segmentations, get_czi_files, int_to_float\n",
    "from confocalQuant.data_handling import print_failed_jobs, get_meta_vectors, return_results, load_im_from_memmap, load_im_from_memmap_ravel\n",
    "from confocalQuant.stats import compute_per_cell_stats\n",
    "from confocalQuant.plotting import plot_boxplot_by_treatment, plot_boxplot_by_line\n",
    "from confocalQuant.widgets import toggle_filters, ImageBrowser\n",
    "\n",
    "def get_meta_vectors(in_parent, files, spacer):\n",
    "    meta = pd.read_csv(in_parent + 'temp.csv')\n",
    "    meta.columns = ['file', 'line', 'treatment']\n",
    "    meta['well'] = [x.split(spacer)[0] for x in meta['file']]\n",
    "\n",
    "    dictionary = dict(zip(meta['well'], meta['line']))\n",
    "    dictionary2 = dict(zip(meta['well'], meta['treatment']))\n",
    "\n",
    "    lines = np.array([dictionary[x.split(spacer)[0]] for x in files])\n",
    "    treat = np.array([dictionary2[x.split(spacer)[0]] for x in files])\n",
    "    return lines, treat\n",
    "\n",
    "def plot_boxplot_by_treatment(value, line, df, colors, colors2):\n",
    "    \n",
    "    avg_lipidspot = df.groupby(['line', 'treatment', 'well'])[value].mean().reset_index(name='av')\n",
    "\n",
    "    d = avg_lipidspot[avg_lipidspot['line']==line]\n",
    "\n",
    "    ax = sns.boxplot(data = d, x = 'treatment', showfliers=False, y = 'av', dodge = True, order = ['vehicle', 'CDP-choline'], palette = colors, width=.5, boxprops=dict(alpha=1), medianprops=dict(color='black', alpha=1), whiskerprops=dict(color='black', alpha=1), capprops=dict(color = 'black', alpha=1))\n",
    "    sns.stripplot(data=d, x='treatment', y='av', palette = colors2, dodge=True, jitter=True, alpha=1,  order = ['vehicle', 'CDP-choline'])\n",
    "\n",
    "    pairs = [((\"vehicle\"), (\"CDP-choline\"))]  # Define pairs to compare\n",
    "    annotator = Annotator(ax, pairs, data=d, x='treatment', y='av', order = ['vehicle', 'CDP-choline'])\n",
    "    annotator.configure(test='t-test_ind', text_format='full', loc='outside', verbose=2, show_test_name=False)\n",
    "    \n",
    "    annotator.apply_and_annotate()\n",
    "    \n",
    "    plt.legend(bbox_to_anchor=(1.04, 1), loc=\"upper left\")\n",
    "    plt.xticks(rotation=45)\n",
    "    plt.ylabel(value)\n",
    "    plt.xlabel('')"
   ]
  },
  {
   "cell_type": "markdown",
   "id": "a0ed87ed-9e91-42e0-b0ad-c706e9914cc9",
   "metadata": {},
   "source": [
    "#### Load and preprocess the quantifications"
   ]
  },
  {
   "cell_type": "code",
   "execution_count": 38,
   "id": "9108b70c-205b-4855-b00f-691b280f1d06",
   "metadata": {},
   "outputs": [],
   "source": [
    "all_df = pd.read_csv('../../new_outs/iNbatch04242024_D54D2_12F4_out/quant_continuous.csv')\n",
    "df = all_df[all_df['line'] == 'Y622']\n",
    "df = df[df['treatment'] != 'rosiglitazone']\n",
    "df['well'] = [i.split('_')[0] for i in df['file']]\n",
    "df = df.rename(columns={'12F4': 'ab42'})"
   ]
  },
  {
   "cell_type": "code",
   "execution_count": 39,
   "id": "506a5404-8774-4bd5-a416-91c5054fa7b3",
   "metadata": {},
   "outputs": [
    {
     "data": {
      "text/html": [
       "<div>\n",
       "<style scoped>\n",
       "    .dataframe tbody tr th:only-of-type {\n",
       "        vertical-align: middle;\n",
       "    }\n",
       "\n",
       "    .dataframe tbody tr th {\n",
       "        vertical-align: top;\n",
       "    }\n",
       "\n",
       "    .dataframe thead th {\n",
       "        text-align: right;\n",
       "    }\n",
       "</style>\n",
       "<table border=\"1\" class=\"dataframe\">\n",
       "  <thead>\n",
       "    <tr style=\"text-align: right;\">\n",
       "      <th></th>\n",
       "      <th>Unnamed: 0</th>\n",
       "      <th>dapi</th>\n",
       "      <th>neun</th>\n",
       "      <th>ab42</th>\n",
       "      <th>D54D2</th>\n",
       "      <th>size</th>\n",
       "      <th>file_ID</th>\n",
       "      <th>mask_ID</th>\n",
       "      <th>file</th>\n",
       "      <th>line</th>\n",
       "      <th>treatment</th>\n",
       "      <th>well</th>\n",
       "    </tr>\n",
       "  </thead>\n",
       "  <tbody>\n",
       "    <tr>\n",
       "      <th>0</th>\n",
       "      <td>0</td>\n",
       "      <td>0.030581</td>\n",
       "      <td>0.059320</td>\n",
       "      <td>0.001645</td>\n",
       "      <td>0.046479</td>\n",
       "      <td>2039.0</td>\n",
       "      <td>0</td>\n",
       "      <td>1</td>\n",
       "      <td>B02_1.czi</td>\n",
       "      <td>Y622</td>\n",
       "      <td>vehicle</td>\n",
       "      <td>B02</td>\n",
       "    </tr>\n",
       "    <tr>\n",
       "      <th>1</th>\n",
       "      <td>1</td>\n",
       "      <td>0.007409</td>\n",
       "      <td>0.096594</td>\n",
       "      <td>0.000654</td>\n",
       "      <td>0.002347</td>\n",
       "      <td>1322.0</td>\n",
       "      <td>0</td>\n",
       "      <td>2</td>\n",
       "      <td>B02_1.czi</td>\n",
       "      <td>Y622</td>\n",
       "      <td>vehicle</td>\n",
       "      <td>B02</td>\n",
       "    </tr>\n",
       "    <tr>\n",
       "      <th>2</th>\n",
       "      <td>2</td>\n",
       "      <td>0.039177</td>\n",
       "      <td>0.031786</td>\n",
       "      <td>0.001201</td>\n",
       "      <td>0.005281</td>\n",
       "      <td>2473.0</td>\n",
       "      <td>0</td>\n",
       "      <td>3</td>\n",
       "      <td>B02_1.czi</td>\n",
       "      <td>Y622</td>\n",
       "      <td>vehicle</td>\n",
       "      <td>B02</td>\n",
       "    </tr>\n",
       "    <tr>\n",
       "      <th>3</th>\n",
       "      <td>3</td>\n",
       "      <td>0.009909</td>\n",
       "      <td>0.073568</td>\n",
       "      <td>0.002044</td>\n",
       "      <td>0.003719</td>\n",
       "      <td>697.0</td>\n",
       "      <td>0</td>\n",
       "      <td>4</td>\n",
       "      <td>B02_1.czi</td>\n",
       "      <td>Y622</td>\n",
       "      <td>vehicle</td>\n",
       "      <td>B02</td>\n",
       "    </tr>\n",
       "    <tr>\n",
       "      <th>4</th>\n",
       "      <td>4</td>\n",
       "      <td>0.032725</td>\n",
       "      <td>0.038590</td>\n",
       "      <td>0.001204</td>\n",
       "      <td>0.039779</td>\n",
       "      <td>2109.0</td>\n",
       "      <td>0</td>\n",
       "      <td>5</td>\n",
       "      <td>B02_1.czi</td>\n",
       "      <td>Y622</td>\n",
       "      <td>vehicle</td>\n",
       "      <td>B02</td>\n",
       "    </tr>\n",
       "  </tbody>\n",
       "</table>\n",
       "</div>"
      ],
      "text/plain": [
       "   Unnamed: 0      dapi      neun      ab42     D54D2    size  file_ID  \\\n",
       "0           0  0.030581  0.059320  0.001645  0.046479  2039.0        0   \n",
       "1           1  0.007409  0.096594  0.000654  0.002347  1322.0        0   \n",
       "2           2  0.039177  0.031786  0.001201  0.005281  2473.0        0   \n",
       "3           3  0.009909  0.073568  0.002044  0.003719   697.0        0   \n",
       "4           4  0.032725  0.038590  0.001204  0.039779  2109.0        0   \n",
       "\n",
       "   mask_ID       file  line treatment well  \n",
       "0        1  B02_1.czi  Y622   vehicle  B02  \n",
       "1        2  B02_1.czi  Y622   vehicle  B02  \n",
       "2        3  B02_1.czi  Y622   vehicle  B02  \n",
       "3        4  B02_1.czi  Y622   vehicle  B02  \n",
       "4        5  B02_1.czi  Y622   vehicle  B02  "
      ]
     },
     "execution_count": 39,
     "metadata": {},
     "output_type": "execute_result"
    }
   ],
   "source": [
    "df.head()"
   ]
  },
  {
   "cell_type": "markdown",
   "id": "80c77a98-90f6-45e4-bd52-5cbe3e68bbd4",
   "metadata": {},
   "source": [
    "#### Plotting"
   ]
  },
  {
   "cell_type": "code",
   "execution_count": 40,
   "id": "23d146f2-253e-499b-8e8d-415a2a9d317c",
   "metadata": {},
   "outputs": [
    {
     "name": "stderr",
     "output_type": "stream",
     "text": [
      "No artists with labels found to put in legend.  Note that artists whose label start with an underscore are ignored when legend() is called with no argument.\n"
     ]
    },
    {
     "name": "stdout",
     "output_type": "stream",
     "text": [
      "vehicle vs. CDP-choline: t-test independent samples, P_val:4.050e-02 t=2.275e+00\n"
     ]
    },
    {
     "data": {
      "text/plain": [
       "Text(-48.25, 0.5, 'Ab42 fluorescent intensity')"
      ]
     },
     "execution_count": 40,
     "metadata": {},
     "output_type": "execute_result"
    },
    {
     "data": {
      "image/png": "[encoded data removed]",
      "text/plain": [
       "<Figure size 90x360 with 1 Axes>"
      ]
     },
     "metadata": {
      "needs_background": "light"
     },
     "output_type": "display_data"
    }
   ],
   "source": [
    "data = df[df['line']=='Y622']\n",
    "data = data[data['treatment']!='rosiglitazone']\n",
    "data.columns = ['x', 'dapi', 'neun', 'ab42', 'D54D2', 'size', 'file_ID', 'mask_ID', 'file', 'line', 'treatment', 'well']\n",
    "\n",
    "plt.figure(figsize=(1.25,5))\n",
    "colors = dict(zip(np.unique(data['treatment']), [ 'orange', 'purple']))\n",
    "colors2 = dict(zip(np.unique(data['treatment']), [ 'orange', 'purple']))\n",
    "\n",
    "plot_boxplot_by_treatment('ab42', 'Y622', data, colors, colors2)\n",
    "plt.xticks(ticks=[0, 1], labels=['-', '+'], rotation=180)\n",
    "plt.ylabel('Ab42 fluorescent intensity')\n",
    "#plt.savefig('../out_plots/amyloid_new_cdp_choline.pdf')"
   ]
  },
  {
   "cell_type": "code",
   "execution_count": 41,
   "id": "595d7ba8-6d97-4a41-86eb-25134cda3319",
   "metadata": {},
   "outputs": [
    {
     "name": "stderr",
     "output_type": "stream",
     "text": [
      "No artists with labels found to put in legend.  Note that artists whose label start with an underscore are ignored when legend() is called with no argument.\n"
     ]
    },
    {
     "name": "stdout",
     "output_type": "stream",
     "text": [
      "E3 vs. Y622: t-test independent samples, P_val:7.911e-02 t=-1.841e+00\n",
      "E3 vs. G2: t-test independent samples, P_val:4.535e-02 t=-2.135e+00\n"
     ]
    },
    {
     "data": {
      "text/plain": [
       "Text(-50.5, 0.5, 'Ab42 fluorescent intensity')"
      ]
     },
     "execution_count": 41,
     "metadata": {},
     "output_type": "execute_result"
    },
    {
     "data": {
      "image/png": "[encoded data removed]",
      "text/plain": [
       "<Figure size 144x360 with 1 Axes>"
      ]
     },
     "metadata": {
      "needs_background": "light"
     },
     "output_type": "display_data"
    }
   ],
   "source": [
    "df = pd.read_csv('../../new_outs/iNbatch04242024_D54D2_12F4_out/quant_continuous.csv')\n",
    "df = df[(df['treatment']=='vehicle')]\n",
    "df['well'] = [i.split('_')[0] for i in df['file']]\n",
    "df.columns = ['x', 'dapi', 'neun', 'ab42', 'D54D2', 'size', 'file_ID', 'mask_ID', 'file', 'line', 'treatment', 'well']\n",
    "\n",
    "plt.figure(figsize=(2,5))\n",
    "colors = dict(zip(np.unique(df['line']), [ 'grey' , 'blue', 'orange']))\n",
    "colors2 = dict(zip(np.unique(df['line']), [ 'grey' , 'blue', 'orange']))\n",
    "\n",
    "plot_boxplot_by_line('ab42', 'vehicle', df, colors, colors2)\n",
    "plt.rcParams.update({'font.size': 14})\n",
    "plt.xticks(ticks=[0, 1, 2], labels=['WT', 'p.Tyr622*','p.Glu50fs*3'], rotation=45)\n",
    "plt.ylabel('Ab42 fluorescent intensity')\n",
    "#plt.savefig('../out_plots/ab_new.pdf')\n"
   ]
  },
  {
   "cell_type": "markdown",
   "id": "06577eb2-151f-4c8e-b474-f20fcc5e0ba6",
   "metadata": {},
   "source": [
    "#### Mixed model"
   ]
  },
  {
   "cell_type": "code",
   "execution_count": 42,
   "id": "3ac50001-630f-4a6f-b790-8013d2b8642d",
   "metadata": {},
   "outputs": [
    {
     "name": "stdout",
     "output_type": "stream",
     "text": [
      "Y622 with and without CDP-choline:\n",
      "         Mixed Linear Model Regression Results\n",
      "=======================================================\n",
      "Model:            MixedLM Dependent Variable: ab42     \n",
      "No. Observations: 1466    Method:             REML     \n",
      "No. Groups:       8       Scale:              0.0000   \n",
      "Min. group size:  98      Log-Likelihood:     6022.9974\n",
      "Max. group size:  407     Converged:          Yes      \n",
      "Mean group size:  183.2                                \n",
      "-------------------------------------------------------\n",
      "              Coef. Std.Err.   z    P>|z| [0.025 0.975]\n",
      "-------------------------------------------------------\n",
      "Intercept     0.002    0.000 12.534 0.000  0.001  0.002\n",
      "Group Var     0.000    0.000                           \n",
      "=======================================================\n",
      "\n"
     ]
    },
    {
     "name": "stderr",
     "output_type": "stream",
     "text": [
      "/home/gridsan/djuna/.local/lib/python3.8/site-packages/statsmodels/regression/mixed_linear_model.py:2238: ConvergenceWarning: The MLE may be on the boundary of the parameter space.\n",
      "  warnings.warn(msg, ConvergenceWarning)\n"
     ]
    }
   ],
   "source": [
    "from confocalQuant.stats import fit_mixed_model\n",
    "\n",
    "print('Y622 with and without CDP-choline:')\n",
    "df_temp = df[df['line']=='Y622']\n",
    "print(fit_mixed_model(df_temp[df_temp['treatment']!='rosiglitazone'], \"ab42 ~ treatment\", 'well'))\n"
   ]
  }
 ],
 "metadata": {
  "kernelspec": {
   "display_name": "Python 3 (ipykernel)",
   "language": "python",
   "name": "python3"
  },
  "language_info": {
   "codemirror_mode": {
    "name": "ipython",
    "version": 3
   },
   "file_extension": ".py",
   "mimetype": "text/x-python",
   "name": "python",
   "nbconvert_exporter": "python",
   "pygments_lexer": "ipython3",
   "version": "3.8.13"
  }
 },
 "nbformat": 4,
 "nbformat_minor": 5
}
